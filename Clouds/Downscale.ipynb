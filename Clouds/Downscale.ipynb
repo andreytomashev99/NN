{
 "cells": [
  {
   "cell_type": "code",
   "execution_count": 168,
   "metadata": {},
   "outputs": [],
   "source": [
    "import matplotlib.pyplot as plt\n",
    "\n",
    "from skimage import data, color\n",
    "from skimage.transform import rescale, resize, downscale_local_mean\n",
    "import numpy as np\n",
    "import pandas as pd\n",
    "from PIL import Image\n",
    "from tqdm import tqdm\n",
    "import PIL\n",
    "import os\n",
    "from io import BytesIO \n",
    "from matplotlib import pyplot as plt\n",
    "%matplotlib inline"
   ]
  },
  {
   "cell_type": "code",
   "execution_count": 46,
   "metadata": {},
   "outputs": [],
   "source": [
    "train = pd.read_csv('data/train.csv')\n",
    "train['Image'] = train['Image_Label'].map(lambda x: x.split('.')[0])\n",
    "train['Label'] = train['Image_Label'].map(lambda x: x.split('_')[1])\n",
    "train2 = pd.DataFrame({'Image':train['Image'][::4]})\n",
    "train2['Fish_mask'] = train['EncodedPixels'][::4].values\n",
    "train2['Flower_mask'] = train['EncodedPixels'][1::4].values\n",
    "train2['Gravel_mask'] = train['EncodedPixels'][2::4].values\n",
    "train2['Sugar_mask'] = train['EncodedPixels'][3::4].values\n",
    "train2.set_index('Image',inplace=True,drop=True)\n",
    "train2.fillna('0',inplace=True); train2.head()\n",
    "train2[['Fish','Flower','Gravel','Sugar']] = (train2[['Fish_mask','Flower_mask','Gravel_mask','Sugar_mask']]!='0').astype('int8')\n",
    "train = train2"
   ]
  },
  {
   "cell_type": "code",
   "execution_count": 47,
   "metadata": {},
   "outputs": [
    {
     "data": {
      "text/html": [
       "<div>\n",
       "<style scoped>\n",
       "    .dataframe tbody tr th:only-of-type {\n",
       "        vertical-align: middle;\n",
       "    }\n",
       "\n",
       "    .dataframe tbody tr th {\n",
       "        vertical-align: top;\n",
       "    }\n",
       "\n",
       "    .dataframe thead th {\n",
       "        text-align: right;\n",
       "    }\n",
       "</style>\n",
       "<table border=\"1\" class=\"dataframe\">\n",
       "  <thead>\n",
       "    <tr style=\"text-align: right;\">\n",
       "      <th></th>\n",
       "      <th>Fish_mask</th>\n",
       "      <th>Flower_mask</th>\n",
       "      <th>Gravel_mask</th>\n",
       "      <th>Sugar_mask</th>\n",
       "      <th>Fish</th>\n",
       "      <th>Flower</th>\n",
       "      <th>Gravel</th>\n",
       "      <th>Sugar</th>\n",
       "    </tr>\n",
       "    <tr>\n",
       "      <th>Image</th>\n",
       "      <th></th>\n",
       "      <th></th>\n",
       "      <th></th>\n",
       "      <th></th>\n",
       "      <th></th>\n",
       "      <th></th>\n",
       "      <th></th>\n",
       "      <th></th>\n",
       "    </tr>\n",
       "  </thead>\n",
       "  <tbody>\n",
       "    <tr>\n",
       "      <th>0011165</th>\n",
       "      <td>264918 937 266318 937 267718 937 269118 937 27...</td>\n",
       "      <td>1355565 1002 1356965 1002 1358365 1002 1359765...</td>\n",
       "      <td>0</td>\n",
       "      <td>0</td>\n",
       "      <td>1</td>\n",
       "      <td>1</td>\n",
       "      <td>0</td>\n",
       "      <td>0</td>\n",
       "    </tr>\n",
       "    <tr>\n",
       "      <th>002be4f</th>\n",
       "      <td>233813 878 235213 878 236613 878 238010 881 23...</td>\n",
       "      <td>1339279 519 1340679 519 1342079 519 1343479 51...</td>\n",
       "      <td>0</td>\n",
       "      <td>67495 350 68895 350 70295 350 71695 350 73095 ...</td>\n",
       "      <td>1</td>\n",
       "      <td>1</td>\n",
       "      <td>0</td>\n",
       "      <td>1</td>\n",
       "    </tr>\n",
       "    <tr>\n",
       "      <th>0031ae9</th>\n",
       "      <td>3510 690 4910 690 6310 690 7710 690 9110 690 1...</td>\n",
       "      <td>2047 703 3447 703 4847 703 6247 703 7647 703 9...</td>\n",
       "      <td>0</td>\n",
       "      <td>658170 388 659570 388 660970 388 662370 388 66...</td>\n",
       "      <td>1</td>\n",
       "      <td>1</td>\n",
       "      <td>0</td>\n",
       "      <td>1</td>\n",
       "    </tr>\n",
       "    <tr>\n",
       "      <th>0035239</th>\n",
       "      <td>0</td>\n",
       "      <td>100812 462 102212 462 103612 462 105012 462 10...</td>\n",
       "      <td>65400 380 66800 380 68200 380 69600 380 71000 ...</td>\n",
       "      <td>0</td>\n",
       "      <td>0</td>\n",
       "      <td>1</td>\n",
       "      <td>1</td>\n",
       "      <td>0</td>\n",
       "    </tr>\n",
       "    <tr>\n",
       "      <th>003994e</th>\n",
       "      <td>2367966 18 2367985 2 2367993 8 2368002 62 2369...</td>\n",
       "      <td>0</td>\n",
       "      <td>353317 416 354717 416 356117 416 357517 416 35...</td>\n",
       "      <td>28011 489 29411 489 30811 489 32211 489 33611 ...</td>\n",
       "      <td>1</td>\n",
       "      <td>0</td>\n",
       "      <td>1</td>\n",
       "      <td>1</td>\n",
       "    </tr>\n",
       "  </tbody>\n",
       "</table>\n",
       "</div>"
      ],
      "text/plain": [
       "                                                 Fish_mask  \\\n",
       "Image                                                        \n",
       "0011165  264918 937 266318 937 267718 937 269118 937 27...   \n",
       "002be4f  233813 878 235213 878 236613 878 238010 881 23...   \n",
       "0031ae9  3510 690 4910 690 6310 690 7710 690 9110 690 1...   \n",
       "0035239                                                  0   \n",
       "003994e  2367966 18 2367985 2 2367993 8 2368002 62 2369...   \n",
       "\n",
       "                                               Flower_mask  \\\n",
       "Image                                                        \n",
       "0011165  1355565 1002 1356965 1002 1358365 1002 1359765...   \n",
       "002be4f  1339279 519 1340679 519 1342079 519 1343479 51...   \n",
       "0031ae9  2047 703 3447 703 4847 703 6247 703 7647 703 9...   \n",
       "0035239  100812 462 102212 462 103612 462 105012 462 10...   \n",
       "003994e                                                  0   \n",
       "\n",
       "                                               Gravel_mask  \\\n",
       "Image                                                        \n",
       "0011165                                                  0   \n",
       "002be4f                                                  0   \n",
       "0031ae9                                                  0   \n",
       "0035239  65400 380 66800 380 68200 380 69600 380 71000 ...   \n",
       "003994e  353317 416 354717 416 356117 416 357517 416 35...   \n",
       "\n",
       "                                                Sugar_mask  Fish  Flower  \\\n",
       "Image                                                                      \n",
       "0011165                                                  0     1       1   \n",
       "002be4f  67495 350 68895 350 70295 350 71695 350 73095 ...     1       1   \n",
       "0031ae9  658170 388 659570 388 660970 388 662370 388 66...     1       1   \n",
       "0035239                                                  0     0       1   \n",
       "003994e  28011 489 29411 489 30811 489 32211 489 33611 ...     1       0   \n",
       "\n",
       "         Gravel  Sugar  \n",
       "Image                   \n",
       "0011165       0      0  \n",
       "002be4f       0      1  \n",
       "0031ae9       0      1  \n",
       "0035239       1      0  \n",
       "003994e       1      1  "
      ]
     },
     "execution_count": 47,
     "metadata": {},
     "output_type": "execute_result"
    }
   ],
   "source": [
    "train.head()"
   ]
  },
  {
   "cell_type": "code",
   "execution_count": 169,
   "metadata": {},
   "outputs": [],
   "source": [
    "def get_mask(train, idx, name):\n",
    "        \n",
    "    y = train.iloc[idx][name + '_mask']\n",
    "        \n",
    "    if type(y) == str:\n",
    "        y = list(map(int, y.split()))\n",
    "    else:\n",
    "        y = [0, 0]\n",
    "                \n",
    "    mask = np.zeros(1400*2100)\n",
    "                \n",
    "    for index, lenght in zip(y[0::2], y[1::2]):\n",
    "        index -= 1\n",
    "        mask[index: index + lenght] = 1\n",
    "        \n",
    "    return mask.reshape((2100, 1400)).T.astype(np.bool)"
   ]
  },
  {
   "cell_type": "code",
   "execution_count": 170,
   "metadata": {},
   "outputs": [],
   "source": [
    "def resize_and_crop(pilimg, scale=0.5, final_height=None):\n",
    "    w = pilimg.size[0]\n",
    "    h = pilimg.size[1]\n",
    "    newW = int(w * scale)\n",
    "    newH = int(h * scale)\n",
    "\n",
    "    if not final_height:\n",
    "        diff = 0\n",
    "    else:\n",
    "        diff = newH - final_height\n",
    "\n",
    "    img = pilimg.resize((newW, newH))\n",
    "    img_cropped = img.crop((0, diff // 2, newW, newH - diff // 2))\n",
    "    return img_cropped"
   ]
  },
  {
   "cell_type": "code",
   "execution_count": 173,
   "metadata": {},
   "outputs": [],
   "source": [
    "def Downscale(img_name, index, name, sc = 0.5):\n",
    "    img = Image.open(\"data/train_images/\" + img_name + '.jpg')\n",
    "    mask = get_mask(train, index, name)\n",
    "    mask  = Image.fromarray(mask)\n",
    "    \n",
    "    img_crop = resize_and_crop(img, scale = sc)\n",
    "    mask_crop = resize_and_crop(mask, scale = sc)\n",
    "    \n",
    "    try:\n",
    "        os.mkdir('data/Downscaled/'+ name + '_image')\n",
    "        os.mkdir('data/Downscaled/'+ name + '_mask')\n",
    "    except OSError:\n",
    "        pass\n",
    "    \n",
    "    img_crop.save('data/Downscaled/'+ name + '_image/' + img_name + '.jpg')\n",
    "    mask_crop.save('data/Downscaled/' + name + '_mask/' + img_name + '_mask.jpg') "
   ]
  },
  {
   "cell_type": "code",
   "execution_count": 174,
   "metadata": {},
   "outputs": [],
   "source": [
    "def get_dataset(name):\n",
    "    print(name + ' dataset')\n",
    "    with tqdm(total=len(train), unit='img') as pbar:\n",
    "        for index in range(len(train)):\n",
    "            if (train.iloc[index][name] == 1):\n",
    "                img_name = train.index[index]\n",
    "                Downscale(img_name, index, name)\n",
    "            pbar.update(1)"
   ]
  },
  {
   "cell_type": "code",
   "execution_count": 175,
   "metadata": {},
   "outputs": [
    {
     "name": "stdout",
     "output_type": "stream",
     "text": [
      "Fish dataset\n"
     ]
    },
    {
     "name": "stderr",
     "output_type": "stream",
     "text": [
      "100%|█████████████████████████████████████████████████████████████████████████████| 5546/5546 [08:27<00:00, 10.93img/s]\n"
     ]
    }
   ],
   "source": [
    "get_dataset('Fish')"
   ]
  },
  {
   "cell_type": "code",
   "execution_count": 182,
   "metadata": {},
   "outputs": [
    {
     "name": "stdout",
     "output_type": "stream",
     "text": [
      "Sugar dataset\n"
     ]
    },
    {
     "name": "stderr",
     "output_type": "stream",
     "text": [
      "100%|█████████████████████████████████████████████████████████████████████████████| 5546/5546 [11:50<00:00,  7.81img/s]\n"
     ]
    }
   ],
   "source": [
    "get_dataset('Sugar')"
   ]
  },
  {
   "cell_type": "code",
   "execution_count": 183,
   "metadata": {},
   "outputs": [
    {
     "name": "stdout",
     "output_type": "stream",
     "text": [
      "Gravel dataset\n"
     ]
    },
    {
     "name": "stderr",
     "output_type": "stream",
     "text": [
      "100%|█████████████████████████████████████████████████████████████████████████████| 5546/5546 [07:46<00:00, 11.90img/s]\n"
     ]
    }
   ],
   "source": [
    "get_dataset('Gravel')"
   ]
  },
  {
   "cell_type": "code",
   "execution_count": 184,
   "metadata": {},
   "outputs": [
    {
     "name": "stdout",
     "output_type": "stream",
     "text": [
      "Flower dataset\n"
     ]
    },
    {
     "name": "stderr",
     "output_type": "stream",
     "text": [
      "100%|█████████████████████████████████████████████████████████████████████████████| 5546/5546 [05:59<00:00, 15.43img/s]\n"
     ]
    }
   ],
   "source": [
    "get_dataset('Flower')"
   ]
  }
 ],
 "metadata": {
  "kernelspec": {
   "display_name": "Python 3",
   "language": "python",
   "name": "python3"
  },
  "language_info": {
   "codemirror_mode": {
    "name": "ipython",
    "version": 3
   },
   "file_extension": ".py",
   "mimetype": "text/x-python",
   "name": "python",
   "nbconvert_exporter": "python",
   "pygments_lexer": "ipython3",
   "version": "3.7.3"
  }
 },
 "nbformat": 4,
 "nbformat_minor": 4
}
