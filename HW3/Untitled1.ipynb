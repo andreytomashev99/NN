{
 "cells": [
  {
   "cell_type": "code",
   "execution_count": 12,
   "metadata": {},
   "outputs": [],
   "source": [
    "import torch\n",
    "import torch.nn as nn\n",
    "\n",
    "import numpy as np\n",
    "import pandas as pd\n",
    "import matplotlib.pyplot as plt\n",
    "from sklearn.preprocessing import MinMaxScaler\n",
    "%matplotlib inline"
   ]
  },
  {
   "cell_type": "code",
   "execution_count": 13,
   "metadata": {},
   "outputs": [
    {
     "data": {
      "image/png": "[encoded data removed]",
      "text/plain": [
       "<Figure size 432x288 with 1 Axes>"
      ]
     },
     "metadata": {
      "needs_background": "light"
     },
     "output_type": "display_data"
    }
   ],
   "source": [
    "dataset = pd.read_csv('international-airline-passengers.csv', usecols=[1], delimiter=\";\", engine='python', skipfooter=3)\n",
    "plt.plot(dataset)\n",
    "plt.show()"
   ]
  },
  {
   "cell_type": "code",
   "execution_count": 14,
   "metadata": {},
   "outputs": [],
   "source": [
    "dataset = dataset.values\n",
    "dataset = dataset.astype('float32')\n",
    "scaler = MinMaxScaler(feature_range=(0, 1))\n",
    "dataset = scaler.fit_transform(dataset)"
   ]
  },
  {
   "cell_type": "code",
   "execution_count": 15,
   "metadata": {},
   "outputs": [],
   "source": [
    "test_data_size = 12\n",
    "\n",
    "train_data = dataset[:-test_data_size]\n",
    "test_data = dataset[-test_data_size:]"
   ]
  },
  {
   "cell_type": "code",
   "execution_count": 16,
   "metadata": {},
   "outputs": [],
   "source": [
    "train_data_normalized = torch.FloatTensor(train_data).view(-1)"
   ]
  },
  {
   "cell_type": "code",
   "execution_count": 17,
   "metadata": {},
   "outputs": [
    {
     "data": {
      "text/plain": [
       "tensor([0.0154, 0.0270, 0.0541, 0.0483, 0.0328, 0.0598, 0.0849, 0.0849, 0.0618,\n",
       "        0.0290, 0.0000, 0.0270, 0.0212, 0.0425, 0.0714, 0.0598, 0.0405, 0.0869,\n",
       "        0.1274, 0.1274, 0.1042, 0.0560, 0.0193, 0.0695, 0.0792, 0.0888, 0.1429,\n",
       "        0.1139, 0.1313, 0.1429, 0.1834, 0.1834, 0.1544, 0.1120, 0.0811, 0.1197,\n",
       "        0.1293, 0.1467, 0.1718, 0.1486, 0.1525, 0.2201, 0.2432, 0.2664, 0.2027,\n",
       "        0.1680, 0.1313, 0.1737, 0.1776, 0.1776, 0.2548, 0.2529, 0.2413, 0.2683,\n",
       "        0.3089, 0.3243, 0.2568, 0.2066, 0.1467, 0.1873, 0.1931, 0.1622, 0.2529,\n",
       "        0.2375, 0.2510, 0.3089, 0.3822, 0.3649, 0.2992, 0.2413, 0.1911, 0.2413,\n",
       "        0.2664, 0.2490, 0.3147, 0.3185, 0.3205, 0.4073, 0.5019, 0.4691, 0.4015,\n",
       "        0.3282, 0.2568, 0.3359, 0.3475, 0.3340, 0.4112, 0.4035, 0.4131, 0.5212,\n",
       "        0.5965, 0.5811, 0.4846, 0.3900, 0.3224, 0.3900, 0.4073, 0.3803, 0.4865,\n",
       "        0.4710, 0.4846, 0.6139, 0.6969, 0.7008, 0.5792, 0.4691, 0.3880, 0.4479,\n",
       "        0.4556, 0.4131, 0.4981, 0.4710, 0.5000, 0.6390, 0.7471, 0.7741, 0.5792,\n",
       "        0.4923, 0.3977, 0.4498, 0.4942, 0.4595, 0.5830, 0.5637, 0.6100, 0.7104,\n",
       "        0.8571, 0.8784, 0.6931, 0.5849, 0.4981, 0.5811])"
      ]
     },
     "execution_count": 17,
     "metadata": {},
     "output_type": "execute_result"
    }
   ],
   "source": [
    "train_data_normalized"
   ]
  },
  {
   "cell_type": "code",
   "execution_count": 18,
   "metadata": {},
   "outputs": [],
   "source": [
    "def create_inout_sequences(input_data, tw):\n",
    "    inout_seq = []\n",
    "    L = len(input_data)\n",
    "    for i in range(L-tw):\n",
    "        train_seq = input_data[i:i+tw]\n",
    "        train_label = input_data[i+tw:i+tw+1]\n",
    "        inout_seq.append((train_seq ,train_label))\n",
    "    return inout_seq"
   ]
  },
  {
   "cell_type": "code",
   "execution_count": 19,
   "metadata": {},
   "outputs": [],
   "source": [
    "train_window = 12"
   ]
  },
  {
   "cell_type": "code",
   "execution_count": 20,
   "metadata": {},
   "outputs": [],
   "source": [
    "train_inout_seq = create_inout_sequences(train_data_normalized, train_window)"
   ]
  },
  {
   "cell_type": "code",
   "execution_count": 26,
   "metadata": {},
   "outputs": [],
   "source": [
    "class LSTM(nn.Module):\n",
    "    def __init__(self, input_size=1, hidden_layer_size=100, output_size=1):\n",
    "        super().__init__()\n",
    "        self.hidden_layer_size = hidden_layer_size\n",
    "\n",
    "        self.lstm = nn.LSTM(input_size, hidden_layer_size)\n",
    "\n",
    "        self.linear = nn.Linear(hidden_layer_size, output_size)\n",
    "\n",
    "        self.hidden_cell = (torch.zeros(1,1,self.hidden_layer_size),\n",
    "                            torch.zeros(1,1,self.hidden_layer_size))\n",
    "\n",
    "    def forward(self, input_seq):\n",
    "        print(input_seq.view(len(input_seq), 1, -1).size())\n",
    "        lstm_out, self.hidden_cell = self.lstm(input_seq.view(len(input_seq) ,1, -1), self.hidden_cell)\n",
    "        predictions = self.linear(lstm_out.view(len(input_seq), -1))\n",
    "        return predictions[-1]"
   ]
  },
  {
   "cell_type": "code",
   "execution_count": 27,
   "metadata": {},
   "outputs": [],
   "source": [
    "model = LSTM()\n",
    "loss_function = nn.MSELoss()\n",
    "optimizer = torch.optim.Adam(model.parameters(), lr=0.001)"
   ]
  },
  {
   "cell_type": "code",
   "execution_count": null,
   "metadata": {},
   "outputs": [],
   "source": []
  },
  {
   "cell_type": "code",
   "execution_count": 28,
   "metadata": {},
   "outputs": [
    {
     "name": "stdout",
     "output_type": "stream",
     "text": [
      "tensor([0.0154, 0.0270, 0.0541, 0.0483, 0.0328, 0.0598, 0.0849, 0.0849, 0.0618,\n",
      "        0.0290, 0.0000, 0.0270])\n",
      "torch.Size([12, 1, 1])\n",
      "tensor([0.0270, 0.0541, 0.0483, 0.0328, 0.0598, 0.0849, 0.0849, 0.0618, 0.0290,\n",
      "        0.0000, 0.0270, 0.0212])\n",
      "torch.Size([12, 1, 1])\n",
      "tensor([0.0541, 0.0483, 0.0328, 0.0598, 0.0849, 0.0849, 0.0618, 0.0290, 0.0000,\n",
      "        0.0270, 0.0212, 0.0425])\n",
      "torch.Size([12, 1, 1])\n",
      "tensor([0.0483, 0.0328, 0.0598, 0.0849, 0.0849, 0.0618, 0.0290, 0.0000, 0.0270,\n",
      "        0.0212, 0.0425, 0.0714])\n",
      "torch.Size([12, 1, 1])\n",
      "tensor([0.0328, 0.0598, 0.0849, 0.0849, 0.0618, 0.0290, 0.0000, 0.0270, 0.0212,\n",
      "        0.0425, 0.0714, 0.0598])\n",
      "torch.Size([12, 1, 1])\n",
      "tensor([0.0598, 0.0849, 0.0849, 0.0618, 0.0290, 0.0000, 0.0270, 0.0212, 0.0425,\n",
      "        0.0714, 0.0598, 0.0405])\n",
      "torch.Size([12, 1, 1])\n",
      "tensor([0.0849, 0.0849, 0.0618, 0.0290, 0.0000, 0.0270, 0.0212, 0.0425, 0.0714,\n",
      "        0.0598, 0.0405, 0.0869])\n",
      "torch.Size([12, 1, 1])\n",
      "tensor([0.0849, 0.0618, 0.0290, 0.0000, 0.0270, 0.0212, 0.0425, 0.0714, 0.0598,\n",
      "        0.0405, 0.0869, 0.1274])\n",
      "torch.Size([12, 1, 1])\n",
      "tensor([0.0618, 0.0290, 0.0000, 0.0270, 0.0212, 0.0425, 0.0714, 0.0598, 0.0405,\n",
      "        0.0869, 0.1274, 0.1274])\n",
      "torch.Size([12, 1, 1])\n",
      "tensor([0.0290, 0.0000, 0.0270, 0.0212, 0.0425, 0.0714, 0.0598, 0.0405, 0.0869,\n",
      "        0.1274, 0.1274, 0.1042])\n",
      "torch.Size([12, 1, 1])\n",
      "tensor([0.0000, 0.0270, 0.0212, 0.0425, 0.0714, 0.0598, 0.0405, 0.0869, 0.1274,\n",
      "        0.1274, 0.1042, 0.0560])\n",
      "torch.Size([12, 1, 1])\n",
      "tensor([0.0270, 0.0212, 0.0425, 0.0714, 0.0598, 0.0405, 0.0869, 0.1274, 0.1274,\n",
      "        0.1042, 0.0560, 0.0193])\n",
      "torch.Size([12, 1, 1])\n",
      "tensor([0.0212, 0.0425, 0.0714, 0.0598, 0.0405, 0.0869, 0.1274, 0.1274, 0.1042,\n",
      "        0.0560, 0.0193, 0.0695])\n",
      "torch.Size([12, 1, 1])\n",
      "tensor([0.0425, 0.0714, 0.0598, 0.0405, 0.0869, 0.1274, 0.1274, 0.1042, 0.0560,\n",
      "        0.0193, 0.0695, 0.0792])\n",
      "torch.Size([12, 1, 1])\n",
      "tensor([0.0714, 0.0598, 0.0405, 0.0869, 0.1274, 0.1274, 0.1042, 0.0560, 0.0193,\n",
      "        0.0695, 0.0792, 0.0888])\n",
      "torch.Size([12, 1, 1])\n",
      "tensor([0.0598, 0.0405, 0.0869, 0.1274, 0.1274, 0.1042, 0.0560, 0.0193, 0.0695,\n",
      "        0.0792, 0.0888, 0.1429])\n",
      "torch.Size([12, 1, 1])\n",
      "tensor([0.0405, 0.0869, 0.1274, 0.1274, 0.1042, 0.0560, 0.0193, 0.0695, 0.0792,\n",
      "        0.0888, 0.1429, 0.1139])\n",
      "torch.Size([12, 1, 1])\n",
      "tensor([0.0869, 0.1274, 0.1274, 0.1042, 0.0560, 0.0193, 0.0695, 0.0792, 0.0888,\n",
      "        0.1429, 0.1139, 0.1313])\n",
      "torch.Size([12, 1, 1])\n",
      "tensor([0.1274, 0.1274, 0.1042, 0.0560, 0.0193, 0.0695, 0.0792, 0.0888, 0.1429,\n",
      "        0.1139, 0.1313, 0.1429])\n",
      "torch.Size([12, 1, 1])\n",
      "tensor([0.1274, 0.1042, 0.0560, 0.0193, 0.0695, 0.0792, 0.0888, 0.1429, 0.1139,\n",
      "        0.1313, 0.1429, 0.1834])\n",
      "torch.Size([12, 1, 1])\n",
      "tensor([0.1042, 0.0560, 0.0193, 0.0695, 0.0792, 0.0888, 0.1429, 0.1139, 0.1313,\n",
      "        0.1429, 0.1834, 0.1834])\n",
      "torch.Size([12, 1, 1])\n",
      "tensor([0.0560, 0.0193, 0.0695, 0.0792, 0.0888, 0.1429, 0.1139, 0.1313, 0.1429,\n",
      "        0.1834, 0.1834, 0.1544])\n",
      "torch.Size([12, 1, 1])\n",
      "tensor([0.0193, 0.0695, 0.0792, 0.0888, 0.1429, 0.1139, 0.1313, 0.1429, 0.1834,\n",
      "        0.1834, 0.1544, 0.1120])\n",
      "torch.Size([12, 1, 1])\n",
      "tensor([0.0695, 0.0792, 0.0888, 0.1429, 0.1139, 0.1313, 0.1429, 0.1834, 0.1834,\n",
      "        0.1544, 0.1120, 0.0811])\n",
      "torch.Size([12, 1, 1])\n",
      "tensor([0.0792, 0.0888, 0.1429, 0.1139, 0.1313, 0.1429, 0.1834, 0.1834, 0.1544,\n",
      "        0.1120, 0.0811, 0.1197])\n",
      "torch.Size([12, 1, 1])\n",
      "tensor([0.0888, 0.1429, 0.1139, 0.1313, 0.1429, 0.1834, 0.1834, 0.1544, 0.1120,\n",
      "        0.0811, 0.1197, 0.1293])\n",
      "torch.Size([12, 1, 1])\n",
      "tensor([0.1429, 0.1139, 0.1313, 0.1429, 0.1834, 0.1834, 0.1544, 0.1120, 0.0811,\n",
      "        0.1197, 0.1293, 0.1467])\n",
      "torch.Size([12, 1, 1])\n",
      "tensor([0.1139, 0.1313, 0.1429, 0.1834, 0.1834, 0.1544, 0.1120, 0.0811, 0.1197,\n",
      "        0.1293, 0.1467, 0.1718])\n",
      "torch.Size([12, 1, 1])\n",
      "tensor([0.1313, 0.1429, 0.1834, 0.1834, 0.1544, 0.1120, 0.0811, 0.1197, 0.1293,\n",
      "        0.1467, 0.1718, 0.1486])\n",
      "torch.Size([12, 1, 1])\n",
      "tensor([0.1429, 0.1834, 0.1834, 0.1544, 0.1120, 0.0811, 0.1197, 0.1293, 0.1467,\n",
      "        0.1718, 0.1486, 0.1525])\n",
      "torch.Size([12, 1, 1])\n",
      "tensor([0.1834, 0.1834, 0.1544, 0.1120, 0.0811, 0.1197, 0.1293, 0.1467, 0.1718,\n",
      "        0.1486, 0.1525, 0.2201])\n",
      "torch.Size([12, 1, 1])\n",
      "tensor([0.1834, 0.1544, 0.1120, 0.0811, 0.1197, 0.1293, 0.1467, 0.1718, 0.1486,\n",
      "        0.1525, 0.2201, 0.2432])\n",
      "torch.Size([12, 1, 1])\n",
      "tensor([0.1544, 0.1120, 0.0811, 0.1197, 0.1293, 0.1467, 0.1718, 0.1486, 0.1525,\n",
      "        0.2201, 0.2432, 0.2664])\n",
      "torch.Size([12, 1, 1])\n",
      "tensor([0.1120, 0.0811, 0.1197, 0.1293, 0.1467, 0.1718, 0.1486, 0.1525, 0.2201,\n",
      "        0.2432, 0.2664, 0.2027])\n",
      "torch.Size([12, 1, 1])\n",
      "tensor([0.0811, 0.1197, 0.1293, 0.1467, 0.1718, 0.1486, 0.1525, 0.2201, 0.2432,\n",
      "        0.2664, 0.2027, 0.1680])\n",
      "torch.Size([12, 1, 1])\n",
      "tensor([0.1197, 0.1293, 0.1467, 0.1718, 0.1486, 0.1525, 0.2201, 0.2432, 0.2664,\n",
      "        0.2027, 0.1680, 0.1313])\n",
      "torch.Size([12, 1, 1])\n",
      "tensor([0.1293, 0.1467, 0.1718, 0.1486, 0.1525, 0.2201, 0.2432, 0.2664, 0.2027,\n",
      "        0.1680, 0.1313, 0.1737])\n",
      "torch.Size([12, 1, 1])\n",
      "tensor([0.1467, 0.1718, 0.1486, 0.1525, 0.2201, 0.2432, 0.2664, 0.2027, 0.1680,\n",
      "        0.1313, 0.1737, 0.1776])\n",
      "torch.Size([12, 1, 1])\n",
      "tensor([0.1718, 0.1486, 0.1525, 0.2201, 0.2432, 0.2664, 0.2027, 0.1680, 0.1313,\n",
      "        0.1737, 0.1776, 0.1776])\n",
      "torch.Size([12, 1, 1])\n",
      "tensor([0.1486, 0.1525, 0.2201, 0.2432, 0.2664, 0.2027, 0.1680, 0.1313, 0.1737,\n",
      "        0.1776, 0.1776, 0.2548])\n",
      "torch.Size([12, 1, 1])\n",
      "tensor([0.1525, 0.2201, 0.2432, 0.2664, 0.2027, 0.1680, 0.1313, 0.1737, 0.1776,\n",
      "        0.1776, 0.2548, 0.2529])\n",
      "torch.Size([12, 1, 1])\n",
      "tensor([0.2201, 0.2432, 0.2664, 0.2027, 0.1680, 0.1313, 0.1737, 0.1776, 0.1776,\n",
      "        0.2548, 0.2529, 0.2413])\n",
      "torch.Size([12, 1, 1])\n",
      "tensor([0.2432, 0.2664, 0.2027, 0.1680, 0.1313, 0.1737, 0.1776, 0.1776, 0.2548,\n",
      "        0.2529, 0.2413, 0.2683])\n",
      "torch.Size([12, 1, 1])\n",
      "tensor([0.2664, 0.2027, 0.1680, 0.1313, 0.1737, 0.1776, 0.1776, 0.2548, 0.2529,\n",
      "        0.2413, 0.2683, 0.3089])\n",
      "torch.Size([12, 1, 1])\n",
      "tensor([0.2027, 0.1680, 0.1313, 0.1737, 0.1776, 0.1776, 0.2548, 0.2529, 0.2413,\n",
      "        0.2683, 0.3089, 0.3243])\n",
      "torch.Size([12, 1, 1])\n",
      "tensor([0.1680, 0.1313, 0.1737, 0.1776, 0.1776, 0.2548, 0.2529, 0.2413, 0.2683,\n",
      "        0.3089, 0.3243, 0.2568])\n",
      "torch.Size([12, 1, 1])\n",
      "tensor([0.1313, 0.1737, 0.1776, 0.1776, 0.2548, 0.2529, 0.2413, 0.2683, 0.3089,\n",
      "        0.3243, 0.2568, 0.2066])\n",
      "torch.Size([12, 1, 1])\n",
      "tensor([0.1737, 0.1776, 0.1776, 0.2548, 0.2529, 0.2413, 0.2683, 0.3089, 0.3243,\n",
      "        0.2568, 0.2066, 0.1467])\n",
      "torch.Size([12, 1, 1])\n",
      "tensor([0.1776, 0.1776, 0.2548, 0.2529, 0.2413, 0.2683, 0.3089, 0.3243, 0.2568,\n",
      "        0.2066, 0.1467, 0.1873])\n",
      "torch.Size([12, 1, 1])\n",
      "tensor([0.1776, 0.2548, 0.2529, 0.2413, 0.2683, 0.3089, 0.3243, 0.2568, 0.2066,\n",
      "        0.1467, 0.1873, 0.1931])\n",
      "torch.Size([12, 1, 1])\n",
      "tensor([0.2548, 0.2529, 0.2413, 0.2683, 0.3089, 0.3243, 0.2568, 0.2066, 0.1467,\n",
      "        0.1873, 0.1931, 0.1622])\n",
      "torch.Size([12, 1, 1])\n",
      "tensor([0.2529, 0.2413, 0.2683, 0.3089, 0.3243, 0.2568, 0.2066, 0.1467, 0.1873,\n",
      "        0.1931, 0.1622, 0.2529])\n",
      "torch.Size([12, 1, 1])\n",
      "tensor([0.2413, 0.2683, 0.3089, 0.3243, 0.2568, 0.2066, 0.1467, 0.1873, 0.1931,\n",
      "        0.1622, 0.2529, 0.2375])\n",
      "torch.Size([12, 1, 1])\n",
      "tensor([0.2683, 0.3089, 0.3243, 0.2568, 0.2066, 0.1467, 0.1873, 0.1931, 0.1622,\n",
      "        0.2529, 0.2375, 0.2510])\n",
      "torch.Size([12, 1, 1])\n",
      "tensor([0.3089, 0.3243, 0.2568, 0.2066, 0.1467, 0.1873, 0.1931, 0.1622, 0.2529,\n",
      "        0.2375, 0.2510, 0.3089])\n",
      "torch.Size([12, 1, 1])\n",
      "tensor([0.3243, 0.2568, 0.2066, 0.1467, 0.1873, 0.1931, 0.1622, 0.2529, 0.2375,\n",
      "        0.2510, 0.3089, 0.3822])\n",
      "torch.Size([12, 1, 1])\n",
      "tensor([0.2568, 0.2066, 0.1467, 0.1873, 0.1931, 0.1622, 0.2529, 0.2375, 0.2510,\n",
      "        0.3089, 0.3822, 0.3649])\n",
      "torch.Size([12, 1, 1])\n",
      "tensor([0.2066, 0.1467, 0.1873, 0.1931, 0.1622, 0.2529, 0.2375, 0.2510, 0.3089,\n",
      "        0.3822, 0.3649, 0.2992])\n",
      "torch.Size([12, 1, 1])\n",
      "tensor([0.1467, 0.1873, 0.1931, 0.1622, 0.2529, 0.2375, 0.2510, 0.3089, 0.3822,\n",
      "        0.3649, 0.2992, 0.2413])\n",
      "torch.Size([12, 1, 1])\n",
      "tensor([0.1873, 0.1931, 0.1622, 0.2529, 0.2375, 0.2510, 0.3089, 0.3822, 0.3649,\n",
      "        0.2992, 0.2413, 0.1911])\n",
      "torch.Size([12, 1, 1])\n",
      "tensor([0.1931, 0.1622, 0.2529, 0.2375, 0.2510, 0.3089, 0.3822, 0.3649, 0.2992,\n",
      "        0.2413, 0.1911, 0.2413])\n",
      "torch.Size([12, 1, 1])\n",
      "tensor([0.1622, 0.2529, 0.2375, 0.2510, 0.3089, 0.3822, 0.3649, 0.2992, 0.2413,\n",
      "        0.1911, 0.2413, 0.2664])\n",
      "torch.Size([12, 1, 1])\n",
      "tensor([0.2529, 0.2375, 0.2510, 0.3089, 0.3822, 0.3649, 0.2992, 0.2413, 0.1911,\n",
      "        0.2413, 0.2664, 0.2490])\n",
      "torch.Size([12, 1, 1])\n",
      "tensor([0.2375, 0.2510, 0.3089, 0.3822, 0.3649, 0.2992, 0.2413, 0.1911, 0.2413,\n",
      "        0.2664, 0.2490, 0.3147])\n",
      "torch.Size([12, 1, 1])\n",
      "tensor([0.2510, 0.3089, 0.3822, 0.3649, 0.2992, 0.2413, 0.1911, 0.2413, 0.2664,\n",
      "        0.2490, 0.3147, 0.3185])\n",
      "torch.Size([12, 1, 1])\n",
      "tensor([0.3089, 0.3822, 0.3649, 0.2992, 0.2413, 0.1911, 0.2413, 0.2664, 0.2490,\n",
      "        0.3147, 0.3185, 0.3205])\n",
      "torch.Size([12, 1, 1])\n",
      "tensor([0.3822, 0.3649, 0.2992, 0.2413, 0.1911, 0.2413, 0.2664, 0.2490, 0.3147,\n",
      "        0.3185, 0.3205, 0.4073])\n",
      "torch.Size([12, 1, 1])\n",
      "tensor([0.3649, 0.2992, 0.2413, 0.1911, 0.2413, 0.2664, 0.2490, 0.3147, 0.3185,\n",
      "        0.3205, 0.4073, 0.5019])\n",
      "torch.Size([12, 1, 1])\n",
      "tensor([0.2992, 0.2413, 0.1911, 0.2413, 0.2664, 0.2490, 0.3147, 0.3185, 0.3205,\n",
      "        0.4073, 0.5019, 0.4691])\n",
      "torch.Size([12, 1, 1])\n",
      "tensor([0.2413, 0.1911, 0.2413, 0.2664, 0.2490, 0.3147, 0.3185, 0.3205, 0.4073,\n",
      "        0.5019, 0.4691, 0.4015])\n",
      "torch.Size([12, 1, 1])\n",
      "tensor([0.1911, 0.2413, 0.2664, 0.2490, 0.3147, 0.3185, 0.3205, 0.4073, 0.5019,\n",
      "        0.4691, 0.4015, 0.3282])\n",
      "torch.Size([12, 1, 1])\n",
      "tensor([0.2413, 0.2664, 0.2490, 0.3147, 0.3185, 0.3205, 0.4073, 0.5019, 0.4691,\n",
      "        0.4015, 0.3282, 0.2568])\n",
      "torch.Size([12, 1, 1])\n",
      "tensor([0.2664, 0.2490, 0.3147, 0.3185, 0.3205, 0.4073, 0.5019, 0.4691, 0.4015,\n",
      "        0.3282, 0.2568, 0.3359])\n",
      "torch.Size([12, 1, 1])\n",
      "tensor([0.2490, 0.3147, 0.3185, 0.3205, 0.4073, 0.5019, 0.4691, 0.4015, 0.3282,\n",
      "        0.2568, 0.3359, 0.3475])\n",
      "torch.Size([12, 1, 1])\n",
      "tensor([0.3147, 0.3185, 0.3205, 0.4073, 0.5019, 0.4691, 0.4015, 0.3282, 0.2568,\n",
      "        0.3359, 0.3475, 0.3340])\n",
      "torch.Size([12, 1, 1])\n",
      "tensor([0.3185, 0.3205, 0.4073, 0.5019, 0.4691, 0.4015, 0.3282, 0.2568, 0.3359,\n",
      "        0.3475, 0.3340, 0.4112])\n",
      "torch.Size([12, 1, 1])\n",
      "tensor([0.3205, 0.4073, 0.5019, 0.4691, 0.4015, 0.3282, 0.2568, 0.3359, 0.3475,\n",
      "        0.3340, 0.4112, 0.4035])\n",
      "torch.Size([12, 1, 1])\n",
      "tensor([0.4073, 0.5019, 0.4691, 0.4015, 0.3282, 0.2568, 0.3359, 0.3475, 0.3340,\n",
      "        0.4112, 0.4035, 0.4131])\n",
      "torch.Size([12, 1, 1])\n",
      "tensor([0.5019, 0.4691, 0.4015, 0.3282, 0.2568, 0.3359, 0.3475, 0.3340, 0.4112,\n",
      "        0.4035, 0.4131, 0.5212])\n",
      "torch.Size([12, 1, 1])\n",
      "tensor([0.4691, 0.4015, 0.3282, 0.2568, 0.3359, 0.3475, 0.3340, 0.4112, 0.4035,\n",
      "        0.4131, 0.5212, 0.5965])\n",
      "torch.Size([12, 1, 1])\n",
      "tensor([0.4015, 0.3282, 0.2568, 0.3359, 0.3475, 0.3340, 0.4112, 0.4035, 0.4131,\n",
      "        0.5212, 0.5965, 0.5811])\n",
      "torch.Size([12, 1, 1])\n",
      "tensor([0.3282, 0.2568, 0.3359, 0.3475, 0.3340, 0.4112, 0.4035, 0.4131, 0.5212,\n",
      "        0.5965, 0.5811, 0.4846])\n",
      "torch.Size([12, 1, 1])\n",
      "tensor([0.2568, 0.3359, 0.3475, 0.3340, 0.4112, 0.4035, 0.4131, 0.5212, 0.5965,\n",
      "        0.5811, 0.4846, 0.3900])\n",
      "torch.Size([12, 1, 1])\n",
      "tensor([0.3359, 0.3475, 0.3340, 0.4112, 0.4035, 0.4131, 0.5212, 0.5965, 0.5811,\n",
      "        0.4846, 0.3900, 0.3224])\n",
      "torch.Size([12, 1, 1])\n",
      "tensor([0.3475, 0.3340, 0.4112, 0.4035, 0.4131, 0.5212, 0.5965, 0.5811, 0.4846,\n",
      "        0.3900, 0.3224, 0.3900])\n",
      "torch.Size([12, 1, 1])\n",
      "tensor([0.3340, 0.4112, 0.4035, 0.4131, 0.5212, 0.5965, 0.5811, 0.4846, 0.3900,\n",
      "        0.3224, 0.3900, 0.4073])\n",
      "torch.Size([12, 1, 1])\n",
      "tensor([0.4112, 0.4035, 0.4131, 0.5212, 0.5965, 0.5811, 0.4846, 0.3900, 0.3224,\n",
      "        0.3900, 0.4073, 0.3803])\n",
      "torch.Size([12, 1, 1])\n",
      "tensor([0.4035, 0.4131, 0.5212, 0.5965, 0.5811, 0.4846, 0.3900, 0.3224, 0.3900,\n",
      "        0.4073, 0.3803, 0.4865])\n",
      "torch.Size([12, 1, 1])\n",
      "tensor([0.4131, 0.5212, 0.5965, 0.5811, 0.4846, 0.3900, 0.3224, 0.3900, 0.4073,\n",
      "        0.3803, 0.4865, 0.4710])\n",
      "torch.Size([12, 1, 1])\n",
      "tensor([0.5212, 0.5965, 0.5811, 0.4846, 0.3900, 0.3224, 0.3900, 0.4073, 0.3803,\n",
      "        0.4865, 0.4710, 0.4846])\n",
      "torch.Size([12, 1, 1])\n",
      "tensor([0.5965, 0.5811, 0.4846, 0.3900, 0.3224, 0.3900, 0.4073, 0.3803, 0.4865,\n",
      "        0.4710, 0.4846, 0.6139])\n"
     ]
    },
    {
     "ename": "KeyboardInterrupt",
     "evalue": "",
     "output_type": "error",
     "traceback": [
      "\u001b[1;31m---------------------------------------------------------------------------\u001b[0m",
      "\u001b[1;31mKeyboardInterrupt\u001b[0m                         Traceback (most recent call last)",
      "\u001b[1;32m<ipython-input-28-f19146a0e0a5>\u001b[0m in \u001b[0;36m<module>\u001b[1;34m\u001b[0m\n\u001b[0;32m      3\u001b[0m \u001b[1;32mfor\u001b[0m \u001b[0mi\u001b[0m \u001b[1;32min\u001b[0m \u001b[0mrange\u001b[0m\u001b[1;33m(\u001b[0m\u001b[0mepochs\u001b[0m\u001b[1;33m)\u001b[0m\u001b[1;33m:\u001b[0m\u001b[1;33m\u001b[0m\u001b[1;33m\u001b[0m\u001b[0m\n\u001b[0;32m      4\u001b[0m     \u001b[1;32mfor\u001b[0m \u001b[0mseq\u001b[0m\u001b[1;33m,\u001b[0m \u001b[0mlabels\u001b[0m \u001b[1;32min\u001b[0m \u001b[0mtrain_inout_seq\u001b[0m\u001b[1;33m:\u001b[0m\u001b[1;33m\u001b[0m\u001b[1;33m\u001b[0m\u001b[0m\n\u001b[1;32m----> 5\u001b[1;33m         \u001b[0mprint\u001b[0m\u001b[1;33m(\u001b[0m\u001b[0mseq\u001b[0m\u001b[1;33m)\u001b[0m\u001b[1;33m\u001b[0m\u001b[1;33m\u001b[0m\u001b[0m\n\u001b[0m\u001b[0;32m      6\u001b[0m         \u001b[0moptimizer\u001b[0m\u001b[1;33m.\u001b[0m\u001b[0mzero_grad\u001b[0m\u001b[1;33m(\u001b[0m\u001b[1;33m)\u001b[0m\u001b[1;33m\u001b[0m\u001b[1;33m\u001b[0m\u001b[0m\n\u001b[0;32m      7\u001b[0m         model.hidden_cell = (torch.zeros(1, 1, model.hidden_layer_size),\n",
      "\u001b[1;32mD:\\Anaconda3\\envs\\cs231n\\lib\\site-packages\\colorama\\ansitowin32.py\u001b[0m in \u001b[0;36mwrite\u001b[1;34m(self, text)\u001b[0m\n\u001b[0;32m     39\u001b[0m \u001b[1;33m\u001b[0m\u001b[0m\n\u001b[0;32m     40\u001b[0m     \u001b[1;32mdef\u001b[0m \u001b[0mwrite\u001b[0m\u001b[1;33m(\u001b[0m\u001b[0mself\u001b[0m\u001b[1;33m,\u001b[0m \u001b[0mtext\u001b[0m\u001b[1;33m)\u001b[0m\u001b[1;33m:\u001b[0m\u001b[1;33m\u001b[0m\u001b[1;33m\u001b[0m\u001b[0m\n\u001b[1;32m---> 41\u001b[1;33m         \u001b[0mself\u001b[0m\u001b[1;33m.\u001b[0m\u001b[0m__convertor\u001b[0m\u001b[1;33m.\u001b[0m\u001b[0mwrite\u001b[0m\u001b[1;33m(\u001b[0m\u001b[0mtext\u001b[0m\u001b[1;33m)\u001b[0m\u001b[1;33m\u001b[0m\u001b[1;33m\u001b[0m\u001b[0m\n\u001b[0m\u001b[0;32m     42\u001b[0m \u001b[1;33m\u001b[0m\u001b[0m\n\u001b[0;32m     43\u001b[0m     \u001b[1;32mdef\u001b[0m \u001b[0misatty\u001b[0m\u001b[1;33m(\u001b[0m\u001b[0mself\u001b[0m\u001b[1;33m)\u001b[0m\u001b[1;33m:\u001b[0m\u001b[1;33m\u001b[0m\u001b[1;33m\u001b[0m\u001b[0m\n",
      "\u001b[1;32mD:\\Anaconda3\\envs\\cs231n\\lib\\site-packages\\colorama\\ansitowin32.py\u001b[0m in \u001b[0;36mwrite\u001b[1;34m(self, text)\u001b[0m\n\u001b[0;32m    160\u001b[0m     \u001b[1;32mdef\u001b[0m \u001b[0mwrite\u001b[0m\u001b[1;33m(\u001b[0m\u001b[0mself\u001b[0m\u001b[1;33m,\u001b[0m \u001b[0mtext\u001b[0m\u001b[1;33m)\u001b[0m\u001b[1;33m:\u001b[0m\u001b[1;33m\u001b[0m\u001b[1;33m\u001b[0m\u001b[0m\n\u001b[0;32m    161\u001b[0m         \u001b[1;32mif\u001b[0m \u001b[0mself\u001b[0m\u001b[1;33m.\u001b[0m\u001b[0mstrip\u001b[0m \u001b[1;32mor\u001b[0m \u001b[0mself\u001b[0m\u001b[1;33m.\u001b[0m\u001b[0mconvert\u001b[0m\u001b[1;33m:\u001b[0m\u001b[1;33m\u001b[0m\u001b[1;33m\u001b[0m\u001b[0m\n\u001b[1;32m--> 162\u001b[1;33m             \u001b[0mself\u001b[0m\u001b[1;33m.\u001b[0m\u001b[0mwrite_and_convert\u001b[0m\u001b[1;33m(\u001b[0m\u001b[0mtext\u001b[0m\u001b[1;33m)\u001b[0m\u001b[1;33m\u001b[0m\u001b[1;33m\u001b[0m\u001b[0m\n\u001b[0m\u001b[0;32m    163\u001b[0m         \u001b[1;32melse\u001b[0m\u001b[1;33m:\u001b[0m\u001b[1;33m\u001b[0m\u001b[1;33m\u001b[0m\u001b[0m\n\u001b[0;32m    164\u001b[0m             \u001b[0mself\u001b[0m\u001b[1;33m.\u001b[0m\u001b[0mwrapped\u001b[0m\u001b[1;33m.\u001b[0m\u001b[0mwrite\u001b[0m\u001b[1;33m(\u001b[0m\u001b[0mtext\u001b[0m\u001b[1;33m)\u001b[0m\u001b[1;33m\u001b[0m\u001b[1;33m\u001b[0m\u001b[0m\n",
      "\u001b[1;32mD:\\Anaconda3\\envs\\cs231n\\lib\\site-packages\\colorama\\ansitowin32.py\u001b[0m in \u001b[0;36mwrite_and_convert\u001b[1;34m(self, text)\u001b[0m\n\u001b[0;32m    188\u001b[0m             \u001b[0mself\u001b[0m\u001b[1;33m.\u001b[0m\u001b[0mconvert_ansi\u001b[0m\u001b[1;33m(\u001b[0m\u001b[1;33m*\u001b[0m\u001b[0mmatch\u001b[0m\u001b[1;33m.\u001b[0m\u001b[0mgroups\u001b[0m\u001b[1;33m(\u001b[0m\u001b[1;33m)\u001b[0m\u001b[1;33m)\u001b[0m\u001b[1;33m\u001b[0m\u001b[1;33m\u001b[0m\u001b[0m\n\u001b[0;32m    189\u001b[0m             \u001b[0mcursor\u001b[0m \u001b[1;33m=\u001b[0m \u001b[0mend\u001b[0m\u001b[1;33m\u001b[0m\u001b[1;33m\u001b[0m\u001b[0m\n\u001b[1;32m--> 190\u001b[1;33m         \u001b[0mself\u001b[0m\u001b[1;33m.\u001b[0m\u001b[0mwrite_plain_text\u001b[0m\u001b[1;33m(\u001b[0m\u001b[0mtext\u001b[0m\u001b[1;33m,\u001b[0m \u001b[0mcursor\u001b[0m\u001b[1;33m,\u001b[0m \u001b[0mlen\u001b[0m\u001b[1;33m(\u001b[0m\u001b[0mtext\u001b[0m\u001b[1;33m)\u001b[0m\u001b[1;33m)\u001b[0m\u001b[1;33m\u001b[0m\u001b[1;33m\u001b[0m\u001b[0m\n\u001b[0m\u001b[0;32m    191\u001b[0m \u001b[1;33m\u001b[0m\u001b[0m\n\u001b[0;32m    192\u001b[0m \u001b[1;33m\u001b[0m\u001b[0m\n",
      "\u001b[1;32mD:\\Anaconda3\\envs\\cs231n\\lib\\site-packages\\colorama\\ansitowin32.py\u001b[0m in \u001b[0;36mwrite_plain_text\u001b[1;34m(self, text, start, end)\u001b[0m\n\u001b[0;32m    194\u001b[0m         \u001b[1;32mif\u001b[0m \u001b[0mstart\u001b[0m \u001b[1;33m<\u001b[0m \u001b[0mend\u001b[0m\u001b[1;33m:\u001b[0m\u001b[1;33m\u001b[0m\u001b[1;33m\u001b[0m\u001b[0m\n\u001b[0;32m    195\u001b[0m             \u001b[0mself\u001b[0m\u001b[1;33m.\u001b[0m\u001b[0mwrapped\u001b[0m\u001b[1;33m.\u001b[0m\u001b[0mwrite\u001b[0m\u001b[1;33m(\u001b[0m\u001b[0mtext\u001b[0m\u001b[1;33m[\u001b[0m\u001b[0mstart\u001b[0m\u001b[1;33m:\u001b[0m\u001b[0mend\u001b[0m\u001b[1;33m]\u001b[0m\u001b[1;33m)\u001b[0m\u001b[1;33m\u001b[0m\u001b[1;33m\u001b[0m\u001b[0m\n\u001b[1;32m--> 196\u001b[1;33m             \u001b[0mself\u001b[0m\u001b[1;33m.\u001b[0m\u001b[0mwrapped\u001b[0m\u001b[1;33m.\u001b[0m\u001b[0mflush\u001b[0m\u001b[1;33m(\u001b[0m\u001b[1;33m)\u001b[0m\u001b[1;33m\u001b[0m\u001b[1;33m\u001b[0m\u001b[0m\n\u001b[0m\u001b[0;32m    197\u001b[0m \u001b[1;33m\u001b[0m\u001b[0m\n\u001b[0;32m    198\u001b[0m \u001b[1;33m\u001b[0m\u001b[0m\n",
      "\u001b[1;32mD:\\Anaconda3\\envs\\cs231n\\lib\\site-packages\\ipykernel\\iostream.py\u001b[0m in \u001b[0;36mflush\u001b[1;34m(self)\u001b[0m\n\u001b[0;32m    347\u001b[0m                 \u001b[0mself\u001b[0m\u001b[1;33m.\u001b[0m\u001b[0mpub_thread\u001b[0m\u001b[1;33m.\u001b[0m\u001b[0mschedule\u001b[0m\u001b[1;33m(\u001b[0m\u001b[0mevt\u001b[0m\u001b[1;33m.\u001b[0m\u001b[0mset\u001b[0m\u001b[1;33m)\u001b[0m\u001b[1;33m\u001b[0m\u001b[1;33m\u001b[0m\u001b[0m\n\u001b[0;32m    348\u001b[0m                 \u001b[1;31m# and give a timeout to avoid\u001b[0m\u001b[1;33m\u001b[0m\u001b[1;33m\u001b[0m\u001b[1;33m\u001b[0m\u001b[0m\n\u001b[1;32m--> 349\u001b[1;33m                 \u001b[1;32mif\u001b[0m \u001b[1;32mnot\u001b[0m \u001b[0mevt\u001b[0m\u001b[1;33m.\u001b[0m\u001b[0mwait\u001b[0m\u001b[1;33m(\u001b[0m\u001b[0mself\u001b[0m\u001b[1;33m.\u001b[0m\u001b[0mflush_timeout\u001b[0m\u001b[1;33m)\u001b[0m\u001b[1;33m:\u001b[0m\u001b[1;33m\u001b[0m\u001b[1;33m\u001b[0m\u001b[0m\n\u001b[0m\u001b[0;32m    350\u001b[0m                     \u001b[1;31m# write directly to __stderr__ instead of warning because\u001b[0m\u001b[1;33m\u001b[0m\u001b[1;33m\u001b[0m\u001b[1;33m\u001b[0m\u001b[0m\n\u001b[0;32m    351\u001b[0m                     \u001b[1;31m# if this is happening sys.stderr may be the problem.\u001b[0m\u001b[1;33m\u001b[0m\u001b[1;33m\u001b[0m\u001b[1;33m\u001b[0m\u001b[0m\n",
      "\u001b[1;32mD:\\Anaconda3\\envs\\cs231n\\lib\\threading.py\u001b[0m in \u001b[0;36mwait\u001b[1;34m(self, timeout)\u001b[0m\n\u001b[0;32m    550\u001b[0m             \u001b[0msignaled\u001b[0m \u001b[1;33m=\u001b[0m \u001b[0mself\u001b[0m\u001b[1;33m.\u001b[0m\u001b[0m_flag\u001b[0m\u001b[1;33m\u001b[0m\u001b[1;33m\u001b[0m\u001b[0m\n\u001b[0;32m    551\u001b[0m             \u001b[1;32mif\u001b[0m \u001b[1;32mnot\u001b[0m \u001b[0msignaled\u001b[0m\u001b[1;33m:\u001b[0m\u001b[1;33m\u001b[0m\u001b[1;33m\u001b[0m\u001b[0m\n\u001b[1;32m--> 552\u001b[1;33m                 \u001b[0msignaled\u001b[0m \u001b[1;33m=\u001b[0m \u001b[0mself\u001b[0m\u001b[1;33m.\u001b[0m\u001b[0m_cond\u001b[0m\u001b[1;33m.\u001b[0m\u001b[0mwait\u001b[0m\u001b[1;33m(\u001b[0m\u001b[0mtimeout\u001b[0m\u001b[1;33m)\u001b[0m\u001b[1;33m\u001b[0m\u001b[1;33m\u001b[0m\u001b[0m\n\u001b[0m\u001b[0;32m    553\u001b[0m             \u001b[1;32mreturn\u001b[0m \u001b[0msignaled\u001b[0m\u001b[1;33m\u001b[0m\u001b[1;33m\u001b[0m\u001b[0m\n\u001b[0;32m    554\u001b[0m \u001b[1;33m\u001b[0m\u001b[0m\n",
      "\u001b[1;32mD:\\Anaconda3\\envs\\cs231n\\lib\\threading.py\u001b[0m in \u001b[0;36mwait\u001b[1;34m(self, timeout)\u001b[0m\n\u001b[0;32m    298\u001b[0m             \u001b[1;32melse\u001b[0m\u001b[1;33m:\u001b[0m\u001b[1;33m\u001b[0m\u001b[1;33m\u001b[0m\u001b[0m\n\u001b[0;32m    299\u001b[0m                 \u001b[1;32mif\u001b[0m \u001b[0mtimeout\u001b[0m \u001b[1;33m>\u001b[0m \u001b[1;36m0\u001b[0m\u001b[1;33m:\u001b[0m\u001b[1;33m\u001b[0m\u001b[1;33m\u001b[0m\u001b[0m\n\u001b[1;32m--> 300\u001b[1;33m                     \u001b[0mgotit\u001b[0m \u001b[1;33m=\u001b[0m \u001b[0mwaiter\u001b[0m\u001b[1;33m.\u001b[0m\u001b[0macquire\u001b[0m\u001b[1;33m(\u001b[0m\u001b[1;32mTrue\u001b[0m\u001b[1;33m,\u001b[0m \u001b[0mtimeout\u001b[0m\u001b[1;33m)\u001b[0m\u001b[1;33m\u001b[0m\u001b[1;33m\u001b[0m\u001b[0m\n\u001b[0m\u001b[0;32m    301\u001b[0m                 \u001b[1;32melse\u001b[0m\u001b[1;33m:\u001b[0m\u001b[1;33m\u001b[0m\u001b[1;33m\u001b[0m\u001b[0m\n\u001b[0;32m    302\u001b[0m                     \u001b[0mgotit\u001b[0m \u001b[1;33m=\u001b[0m \u001b[0mwaiter\u001b[0m\u001b[1;33m.\u001b[0m\u001b[0macquire\u001b[0m\u001b[1;33m(\u001b[0m\u001b[1;32mFalse\u001b[0m\u001b[1;33m)\u001b[0m\u001b[1;33m\u001b[0m\u001b[1;33m\u001b[0m\u001b[0m\n",
      "\u001b[1;31mKeyboardInterrupt\u001b[0m: "
     ]
    }
   ],
   "source": [
    "epochs = 150\n",
    "loss_hist_train = []\n",
    "for i in range(epochs):\n",
    "    for seq, labels in train_inout_seq:\n",
    "        optimizer.zero_grad()\n",
    "        model.hidden_cell = (torch.zeros(1, 1, model.hidden_layer_size),\n",
    "                        torch.zeros(1, 1, model.hidden_layer_size))\n",
    "\n",
    "        y_pred = model(seq)\n",
    "\n",
    "        single_loss = loss_function(y_pred, labels)\n",
    "        single_loss.backward()\n",
    "        optimizer.step()\n",
    "\n",
    "    if i%25 == 1:\n",
    "        print(f'epoch: {i:3} loss: {single_loss.item():10.8f}')\n",
    "\n",
    "print(f'epoch: {i:3} loss: {single_loss.item():10.10f}')"
   ]
  },
  {
   "cell_type": "code",
   "execution_count": 36,
   "metadata": {},
   "outputs": [
    {
     "name": "stdout",
     "output_type": "stream",
     "text": [
      "[0.4942084848880768, 0.45945945382118225, 0.5830116271972656, 0.5637065172195435, 0.6100386381149292, 0.7104246616363525, 0.8571429252624512, 0.8783783912658691, 0.6930501461029053, 0.584942102432251, 0.49806949496269226, 0.5810810327529907]\n"
     ]
    }
   ],
   "source": [
    "fut_pred = 12\n",
    "\n",
    "test_inputs = train_data_normalized[-train_window:].tolist()\n",
    "print(test_inputs)"
   ]
  },
  {
   "cell_type": "code",
   "execution_count": 37,
   "metadata": {},
   "outputs": [],
   "source": [
    "model.eval()\n",
    "\n",
    "for i in range(fut_pred):\n",
    "    seq = torch.FloatTensor(test_inputs[-train_window:])\n",
    "    with torch.no_grad():\n",
    "        model.hidden = (torch.zeros(1, 1, model.hidden_layer_size),\n",
    "                        torch.zeros(1, 1, model.hidden_layer_size))\n",
    "        test_inputs.append(model(seq).item())"
   ]
  },
  {
   "cell_type": "code",
   "execution_count": 41,
   "metadata": {},
   "outputs": [
    {
     "name": "stdout",
     "output_type": "stream",
     "text": [
      "[[408.44194819]\n",
      " [363.97859407]\n",
      " [459.57011702]\n",
      " [417.54127294]\n",
      " [465.60140337]\n",
      " [553.19831646]\n",
      " [709.9681041 ]\n",
      " [834.88764615]\n",
      " [781.92950382]\n",
      " [675.66161232]\n",
      " [513.5784795 ]\n",
      " [396.92818228]]\n"
     ]
    }
   ],
   "source": [
    "actual_predictions = scaler.inverse_transform(np.array(test_inputs[train_window:] ).reshape(-1, 1))\n",
    "print(actual_predictions)"
   ]
  },
  {
   "cell_type": "code",
   "execution_count": 42,
   "metadata": {},
   "outputs": [
    {
     "name": "stdout",
     "output_type": "stream",
     "text": [
      "[132 133 134 135 136 137 138 139 140 141 142 143]\n"
     ]
    }
   ],
   "source": [
    "x = np.arange(132, 144, 1)\n",
    "print(x)"
   ]
  },
  {
   "cell_type": "code",
   "execution_count": 53,
   "metadata": {},
   "outputs": [
    {
     "data": {
      "image/png": "[encoded data removed]",
      "text/plain": [
       "<Figure size 432x288 with 1 Axes>"
      ]
     },
     "metadata": {
      "needs_background": "light"
     },
     "output_type": "display_data"
    }
   ],
   "source": [
    "plt.title('Month vs Passenger')\n",
    "plt.ylabel('Total Passengers')\n",
    "plt.grid(True)\n",
    "plt.autoscale(axis='x', tight=True)\n",
    "plt.plot(dataset)\n",
    "plt.plot(x,actual_predictions)\n",
    "plt.show()"
   ]
  },
  {
   "cell_type": "code",
   "execution_count": null,
   "metadata": {},
   "outputs": [],
   "source": []
  }
 ],
 "metadata": {
  "kernelspec": {
   "display_name": "Python 3",
   "language": "python",
   "name": "python3"
  },
  "language_info": {
   "codemirror_mode": {
    "name": "ipython",
    "version": 3
   },
   "file_extension": ".py",
   "mimetype": "text/x-python",
   "name": "python",
   "nbconvert_exporter": "python",
   "pygments_lexer": "ipython3",
   "version": "3.7.3"
  }
 },
 "nbformat": 4,
 "nbformat_minor": 4
}
