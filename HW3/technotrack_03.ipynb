{
 "cells": [
  {
   "cell_type": "markdown",
   "metadata": {},
   "source": [
    "## ДЗ №3: Рекуррентные нейронные сети.  Обработка естественного языка"
   ]
  },
  {
   "cell_type": "markdown",
   "metadata": {},
   "source": [
    "### Пожалуйста, заполните имя"
   ]
  },
  {
   "cell_type": "code",
   "execution_count": 26,
   "metadata": {},
   "outputs": [],
   "source": [
    "STUDENT_NAME = \"Andrey Tomashev\" # For example, Fedor Petriaikin"
   ]
  },
  {
   "cell_type": "code",
   "execution_count": 27,
   "metadata": {},
   "outputs": [],
   "source": [
    "import numpy as np\n",
    "from sklearn.model_selection import train_test_split\n",
    "import matplotlib.pyplot as plt\n",
    "from torch import optim\n",
    "import torch\n",
    "from torch import nn\n",
    "import pandas\n",
    "from torch.nn import Parameter\n",
    "from torch.nn import MSELoss\n",
    "from sklearn.preprocessing import MinMaxScaler\n",
    "from torch.utils.data import DataLoader, Dataset, TensorDataset\n",
    "from tqdm import tqdm\n",
    "%matplotlib inline"
   ]
  },
  {
   "cell_type": "markdown",
   "metadata": {},
   "source": [
    "**Не удаляйте клетки из этого jupyter-notebok! Это затруднит проверку!**\n",
    "\n",
    "В этом задании вам предстоит попробовать различные рекуррентные архитектуры для предсказания временного ряда и написания простейшего чат-бота.\n"
   ]
  },
  {
   "cell_type": "markdown",
   "metadata": {},
   "source": [
    "### Часть 1. Предсказание временного ряда"
   ]
  },
  {
   "cell_type": "markdown",
   "metadata": {},
   "source": [
    "а) Напишите свою реализацию LSTM\n",
    "<img src=\"https://cdn-images-1.medium.com/max/1600/1*hl9UVtgIcQkDIGD8VFykdw.png\" width=\"640\">"
   ]
  },
  {
   "cell_type": "code",
   "execution_count": 28,
   "metadata": {},
   "outputs": [],
   "source": [
    "# Кстати, на вход в pytorch-реализацию можно подавать последовательности разной длины.\n",
    "# См. torch.nn.utils.rnn.pack_padded_sequence() и torch.nn.utils.rnn.pack_sequence()\n",
    "class MyLSTM(nn.Module):\n",
    "    def __init__(self, input_size, hidden_size):\n",
    "        super(MyLSTM, self).__init__()\n",
    "        ## YOUR CODE HERE\n",
    "        self.input_size = input_size\n",
    "        self.hidden_size = hidden_size\n",
    "        self.W_ii = Parameter(torch.Tensor(input_size, hidden_size))\n",
    "        self.W_hi = Parameter(torch.Tensor(hidden_size, hidden_size))\n",
    "        self.b_i = Parameter(torch.Tensor(hidden_size))\n",
    "        self.W_if = Parameter(torch.Tensor(input_size, hidden_size))\n",
    "        self.W_hf = Parameter(torch.Tensor(hidden_size, hidden_size))\n",
    "        self.b_f = Parameter(torch.Tensor(hidden_size))\n",
    "        self.W_ig = Parameter(torch.Tensor(input_size, hidden_size))\n",
    "        self.W_hg = Parameter(torch.Tensor(hidden_size, hidden_size))\n",
    "        self.b_g = Parameter(torch.Tensor(hidden_size))\n",
    "        self.W_io = Parameter(torch.Tensor(input_size, hidden_size))\n",
    "        self.W_ho = Parameter(torch.Tensor(hidden_size, hidden_size))\n",
    "        self.b_o = Parameter(torch.Tensor(hidden_size))\n",
    "        \n",
    "        self.init_weights()\n",
    "        \n",
    "    def init_weights(self):\n",
    "        for p in self.parameters():\n",
    "            if p.data.ndimension() >= 2:\n",
    "                nn.init.xavier_uniform_(p.data)\n",
    "            else:\n",
    "                nn.init.zeros_(p.data)\n",
    "    \n",
    "    # Пропускает через себя последовательность и выдает последний выход\n",
    "    # X: (seq_len, batch_size, input_size)\n",
    "    # hidden = (hidden, C): (batch_size, hidden_size)x2 - чтобы начать предсказания с какого-то момента\n",
    "    # Если None, инициализировать нулями\n",
    "    # Возвращает out, h, c, где (h, c) - выход и скрытое состояние после последнего элемента\n",
    "    # out - (seq_len, batch, hidden_size) - выходы каждого слоя\n",
    "    def forward(self, X, hidden=None):\n",
    "        seq_len, batch_size, input_size = X.shape\n",
    "        X = X.reshape(X.shape[1], X.shape[0], X.shape[2])\n",
    "        hidden_seq = []\n",
    "        if hidden is None:\n",
    "            h_t, c_t = torch.zeros(self.hidden_size).to(X.device), torch.zeros(self.hidden_size).to(X.device)\n",
    "        else:\n",
    "            h_t, c_t = hidden[0], hidden[1]\n",
    "            \n",
    "        for t in range(seq_len): \n",
    "            x_t = X[:, t, :]\n",
    "            i_t = torch.sigmoid(x_t @ self.W_ii + h_t @ self.W_hi + self.b_i)\n",
    "            f_t = torch.sigmoid(x_t @ self.W_if + h_t @ self.W_hf + self.b_f)\n",
    "            g_t = torch.tanh(x_t @ self.W_ig + h_t @ self.W_hg + self.b_g)\n",
    "            o_t = torch.sigmoid(x_t @ self.W_io + h_t @ self.W_ho + self.b_o)\n",
    "            c_t = f_t * c_t + i_t * g_t\n",
    "            h_t = o_t * torch.tanh(c_t)\n",
    "            hidden_seq.append(h_t.unsqueeze(0))\n",
    "        hidden_seq = torch.cat(hidden_seq, dim = 0)\n",
    "        return hidden_seq, (h_t, c_t)"
   ]
  },
  {
   "cell_type": "markdown",
   "metadata": {},
   "source": [
    "б) Напишите код обучения LSTM на представленных данных"
   ]
  },
  {
   "cell_type": "code",
   "execution_count": 29,
   "metadata": {},
   "outputs": [
    {
     "data": {
      "image/png": "[encoded data removed]",
      "text/plain": [
       "<Figure size 432x288 with 1 Axes>"
      ]
     },
     "metadata": {
      "needs_background": "light"
     },
     "output_type": "display_data"
    }
   ],
   "source": [
    "# График (*)\n",
    "%matplotlib inline\n",
    "dataset = pandas.read_csv('international-airline-passengers.csv', usecols=[1], delimiter=\";\", engine='python', skipfooter=3)\n",
    "plt.plot(dataset)\n",
    "plt.show()"
   ]
  },
  {
   "cell_type": "code",
   "execution_count": 30,
   "metadata": {},
   "outputs": [],
   "source": [
    "# подготовливаем данные\n",
    "dataset = dataset.values\n",
    "dataset = dataset.astype('float32')\n",
    "scaler = MinMaxScaler(feature_range=(0, 1))\n",
    "dataset = scaler.fit_transform(dataset)"
   ]
  },
  {
   "cell_type": "code",
   "execution_count": 31,
   "metadata": {},
   "outputs": [
    {
     "name": "stdout",
     "output_type": "stream",
     "text": [
      "96 48\n"
     ]
    }
   ],
   "source": [
    "# разбиваем данные на train / test\n",
    "train_size = int(len(dataset) * 0.67)\n",
    "test_size = len(dataset) - train_size\n",
    "train, test = dataset[0:train_size,:], dataset[train_size:len(dataset),:]\n",
    "print(len(train), len(test))"
   ]
  },
  {
   "cell_type": "code",
   "execution_count": 32,
   "metadata": {},
   "outputs": [],
   "source": [
    "# Целевая переменная - сдвинутая последовательность значений входов\n",
    "# look_back - на сколько смещен test относительно train (seq_len)\n",
    "# look_forward - сколько нужно предсказать\n",
    "def create_dataset(dataset, look_back=1, look_forward=1):\n",
    "    dataX, dataY = [], []\n",
    "    for i in range(len(dataset)-look_back-1-look_forward):\n",
    "        a = dataset[i:(i+look_back), 0]\n",
    "        dataX.append(a)\n",
    "        dataY.append(dataset[i + look_back : (i + look_back + look_forward), 0])\n",
    "    return np.array(dataX), np.array(dataY)"
   ]
  },
  {
   "cell_type": "code",
   "execution_count": 33,
   "metadata": {},
   "outputs": [],
   "source": [
    "# Пример подготовленных данных\n",
    "look_back = 5\n",
    "look_forward= 1\n",
    "\n",
    "trainX, trainY = create_dataset(train, look_back, look_forward)\n",
    "testX, testY = create_dataset(test, look_back, look_forward)\n",
    "\n",
    "trainX = np.reshape(trainX, (trainX.shape[0], 1, trainX.shape[1]))\n",
    "testX = np.reshape(testX, (testX.shape[0], 1, testX.shape[1]))"
   ]
  },
  {
   "cell_type": "code",
   "execution_count": 34,
   "metadata": {},
   "outputs": [],
   "source": [
    "class AirlineDataset(Dataset):\n",
    "    def __init__(self, data, look_back = 1, look_forward = 1):\n",
    "        X, self.dataY = create_dataset(data, look_back, look_forward)\n",
    "        self.dataX = np.reshape(X, (X.shape[0], 1, X.shape[1]))\n",
    "\n",
    "    def __len__(self):\n",
    "        return len(self.dataX)\n",
    "    \n",
    "    def __getitem__(self, idx):\n",
    "        dataX = self.dataX[idx]\n",
    "        dataY = self.dataY[idx]\n",
    "        \n",
    "        return dataX, dataY"
   ]
  },
  {
   "cell_type": "code",
   "execution_count": 35,
   "metadata": {},
   "outputs": [],
   "source": [
    "train_dataset    = AirlineDataset(data = train, look_back = 5, look_forward = 1)\n",
    "train_dataloader = DataLoader(train_dataset, batch_size = 1,\n",
    "                              shuffle=False)\n",
    "test_dataset    = AirlineDataset(data = test, look_back = 5, look_forward = 1)\n",
    "test_dataloader = DataLoader(test_dataset, batch_size = 1,\n",
    "                              shuffle=False)\n"
   ]
  },
  {
   "cell_type": "code",
   "execution_count": 39,
   "metadata": {},
   "outputs": [],
   "source": [
    "class LSTM(nn.Module):\n",
    "    def __init__(self, name, input_size = 1, hidden_layer_size=100, output_size=1):\n",
    "        super().__init__()\n",
    "        self.hidden_layer_size = hidden_layer_size\n",
    "        if(name == 'torch_lstm'):\n",
    "            self.lstm = nn.LSTM(input_size, hidden_layer_size)\n",
    "        elif (name == 'my_lstm'):\n",
    "            self.lstm = MyLSTM(input_size, hidden_layer_size)\n",
    "        elif (name == 'gru'):\n",
    "            self.lstm = nn.GRU(input_size, hidden_layer_size)\n",
    "\n",
    "        self.linear = nn.Linear(hidden_layer_size, output_size)\n",
    "        self.name = name\n",
    "        self.hidden_cell = (torch.zeros(1,1,self.hidden_layer_size),\n",
    "                            torch.zeros(1,1,self.hidden_layer_size))\n",
    "        \n",
    "    \n",
    "    \n",
    "    # Пропускает через себя последовательность и выдает последний выход\n",
    "    # X: (seq_len, batch_size, input_size)\n",
    "    # hidden = (hidden, C): (batch_size, hidden_size)x2 - чтобы начать предсказания с какого-то момента\n",
    "    # Если None, инициализировать нулями\n",
    "    # Возвращает out, h, c, где (h, c) - выход и скрытое состояние после последнего элемента\n",
    "    # out - (seq_len, batch, hidden_size) - выходы каждого слоя\n",
    "    def forward(self, input_seq):\n",
    "        if(self.name == 'gru'):\n",
    "            lstm_out, self.hidden_cell = self.lstm(input_seq.view(len(input_seq) ,1, -1) , self.hidden_cell[0])\n",
    "        else:\n",
    "            lstm_out, self.hidden_cell = self.lstm(input_seq.view(len(input_seq) ,1, -1) , self.hidden_cell)\n",
    "        predictions = self.linear(lstm_out.view(len(input_seq), -1))\n",
    "        return predictions[-1]"
   ]
  },
  {
   "cell_type": "code",
   "execution_count": 40,
   "metadata": {},
   "outputs": [],
   "source": [
    "# Берет данные из dataloader, сам их сдвигает, формируя обучающую выборку\n",
    "# В качестве функции ошибок возьмите MSELoss, оптимизатор - Adagrad\n",
    "# В функцию можно добавить дополнительные параметры (например, max_epochs, условия останова...)\n",
    "def TrainModel(model, dataloader, look_back=5, look_forward=1, epochs = 1000):\n",
    "    ## YOUR CODE HERE\n",
    "    optimizer = torch.optim.Adagrad(model.parameters(), lr=0.004)\n",
    "    mse_loss = MSELoss()\n",
    "    loss_hist_train = []\n",
    "    y_hist = []\n",
    "    with tqdm(total=epochs) as pbar:\n",
    "        for epoch in range(epochs):\n",
    "            for trainX, trainY in dataloader:\n",
    "                optimizer.zero_grad()\n",
    "                model.hidden_cell = (torch.zeros(1, 1, model.hidden_layer_size),\n",
    "                                     torch.zeros(1, 1, model.hidden_layer_size))\n",
    "                \n",
    "                predY = model(trainX.squeeze())\n",
    "                loss = mse_loss(predY, trainY.squeeze(1))\n",
    "                if(epoch == epochs - 1):\n",
    "                    y_hist.append(predY)\n",
    "                loss.backward()\n",
    "                optimizer.step()\n",
    "            loss_hist_train.append(loss)\n",
    "            pbar.update(1)\n",
    "    \n",
    "    fig = plt.figure()\n",
    "    plt.title('train loss')\n",
    "    plt.plot(range(len(loss_hist_train)), loss_hist_train)\n",
    "    return y_hist"
   ]
  },
  {
   "cell_type": "markdown",
   "metadata": {},
   "source": [
    "TORCH IMPLEMENTATION"
   ]
  },
  {
   "cell_type": "code",
   "execution_count": 41,
   "metadata": {},
   "outputs": [
    {
     "name": "stderr",
     "output_type": "stream",
     "text": [
      "100%|██████████████████████████████████████████████████████████████████████████████| 1000/1000 [07:36<00:00,  2.18it/s]\n"
     ]
    },
    {
     "data": {
      "image/png": "[encoded data removed]",
      "text/plain": [
       "<Figure size 432x288 with 1 Axes>"
      ]
     },
     "metadata": {
      "needs_background": "light"
     },
     "output_type": "display_data"
    }
   ],
   "source": [
    "lstm_torch = LSTM('torch_lstm')\n",
    "history = TrainModel(model = lstm_torch, dataloader = train_dataloader, look_back = 12, look_forward = 1)"
   ]
  },
  {
   "cell_type": "code",
   "execution_count": 57,
   "metadata": {},
   "outputs": [
    {
     "data": {
      "image/png": "[encoded data removed]",
      "text/plain": [
       "<Figure size 432x288 with 1 Axes>"
      ]
     },
     "metadata": {
      "needs_background": "light"
     },
     "output_type": "display_data"
    }
   ],
   "source": [
    "import math\n",
    "from sklearn.metrics import mean_squared_error\n",
    "# convert an array of values into a dataset matrix\n",
    "trainPredict = scaler.inverse_transform(np.array(history).reshape(len(history), 1))\n",
    "trainPredictPlot = np.empty_like(dataset)\n",
    "trainPredictPlot[:, :] = np.nan\n",
    "trainPredictPlot[look_back:len(trainPredict)+look_back, :] = trainPredict\n",
    "\n",
    "\n",
    "testPredict = scaler.inverse_transform(np.array(y_test).reshape(len(y_test), 1))\n",
    "testPredictPlot = np.empty_like(dataset)\n",
    "testPredictPlot[:, :] = np.nan\n",
    "testPredictPlot[look_back:len(testPredict)+look_back, :] = testPredict\n",
    "\n",
    "x = np.arange(96, 144, 1)\n",
    "plt.autoscale(axis='x', tight=True)\n",
    "plt.plot(scaler.inverse_transform(dataset))\n",
    "plt.plot(trainPredictPlot)\n",
    "plt.plot(x[4:45],testPredictPlot[5:46])\n",
    "plt.show()"
   ]
  },
  {
   "cell_type": "markdown",
   "metadata": {},
   "source": [
    "в) Попробуйте обучить сеть с разными параметрами look_back, look_forward. Также попробуйте использовать различные hidden_size. Выведите предсказания на график (\\*). Сделайте вывод.  \n",
    "*Обратите внимание*: \"Классический\", однонаправленный LSTM имеет размерность выхода (seq_len, batch, hidden_size). Но иногда нужно \"изменить\" размерность выхода - для этого можно обучить Linear: hidden_size x need_size  \n",
    "\n",
    "г) Сравните свой результат и результат с использованием nn.LSTM (на аналогичном числе эпох, hidden_size и т.п.)  \n",
    "\n",
    "д) Попробуйте использовать nn.GRU. Сравните результаты"
   ]
  },
  {
   "cell_type": "markdown",
   "metadata": {},
   "source": [
    "MY LSTM"
   ]
  },
  {
   "cell_type": "code",
   "execution_count": 46,
   "metadata": {},
   "outputs": [
    {
     "name": "stderr",
     "output_type": "stream",
     "text": [
      "100%|██████████████████████████████████████████████████████████████████████████████| 1000/1000 [09:58<00:00,  1.51it/s]\n"
     ]
    },
    {
     "data": {
      "image/png": "[encoded data removed]",
      "text/plain": [
       "<Figure size 432x288 with 1 Axes>"
      ]
     },
     "metadata": {
      "needs_background": "light"
     },
     "output_type": "display_data"
    }
   ],
   "source": [
    "my_lstm = LSTM('my_lstm')\n",
    "my_history = TrainModel(model = my_lstm, dataloader = train_dataloader, look_back = 12, look_forward = 1)"
   ]
  },
  {
   "cell_type": "code",
   "execution_count": null,
   "metadata": {},
   "outputs": [],
   "source": [
    "my_lstm.eval()\n",
    "my_y_test = []\n",
    "with torch.no_grad():\n",
    "    for a, b in test_dataloader:\n",
    "        my_lstm.hidden_cell = (torch.zeros(1, 1, lstm_torch.hidden_layer_size),\n",
    "                        torch.zeros(1, 1, lstm_torch.hidden_layer_size))\n",
    "        y_pred_test = my_lstm(a.squeeze())\n",
    "        my_y_test.append(y_pred_test)   "
   ]
  },
  {
   "cell_type": "code",
   "execution_count": 56,
   "metadata": {},
   "outputs": [
    {
     "data": {
      "image/png": "[encoded data removed]",
      "text/plain": [
       "<Figure size 432x288 with 1 Axes>"
      ]
     },
     "metadata": {
      "needs_background": "light"
     },
     "output_type": "display_data"
    }
   ],
   "source": [
    "MytrainPredict = scaler.inverse_transform(np.array(my_history).reshape(len(my_history), 1))\n",
    "MytrainPredictPlot = np.empty_like(dataset)\n",
    "MytrainPredictPlot[:, :] = np.nan\n",
    "MytrainPredictPlot[look_back:len(MytrainPredict)+look_back, :] = MytrainPredict\n",
    "\n",
    "MytestPredict = scaler.inverse_transform(np.array(my_y_test).reshape(len(my_y_test), 1))\n",
    "MytestPredictPlot = np.empty_like(dataset)\n",
    "MytestPredictPlot[:, :] = np.nan\n",
    "MytestPredictPlot[look_back:len(MytestPredict)+look_back, :] = MytestPredict\n",
    "\n",
    "plt.autoscale(axis='x', tight=True)\n",
    "plt.plot(scaler.inverse_transform(dataset))\n",
    "plt.plot(MytrainPredictPlot)\n",
    "plt.plot(x[4:45],MytestPredictPlot[5:46])\n",
    "plt.show()"
   ]
  },
  {
   "cell_type": "markdown",
   "metadata": {},
   "source": [
    "GRU"
   ]
  },
  {
   "cell_type": "code",
   "execution_count": 50,
   "metadata": {},
   "outputs": [
    {
     "name": "stderr",
     "output_type": "stream",
     "text": [
      "100%|██████████████████████████████████████████████████████████████████████████████| 1000/1000 [07:31<00:00,  2.09it/s]\n"
     ]
    },
    {
     "data": {
      "image/png": "[encoded data removed]",
      "text/plain": [
       "<Figure size 432x288 with 1 Axes>"
      ]
     },
     "metadata": {
      "needs_background": "light"
     },
     "output_type": "display_data"
    }
   ],
   "source": [
    "gru = LSTM('gru')\n",
    "gru_history = TrainModel(model = gru, dataloader = train_dataloader, look_back = 12, look_forward = 1)"
   ]
  },
  {
   "cell_type": "code",
   "execution_count": null,
   "metadata": {},
   "outputs": [],
   "source": [
    "gru.eval()\n",
    "gru_y_test = []\n",
    "with torch.no_grad():\n",
    "    for a, b in test_dataloader:\n",
    "        gru.hidden_cell = (torch.zeros(1, 1, lstm_torch.hidden_layer_size),\n",
    "                      torch.zeros(1, 1, lstm_torch.hidden_layer_size))\n",
    "        y_pred_test = gru(a.squeeze())\n",
    "        gru_y_test.append(y_pred_test)"
   ]
  },
  {
   "cell_type": "code",
   "execution_count": 55,
   "metadata": {},
   "outputs": [
    {
     "data": {
      "image/png": "[encoded data removed]",
      "text/plain": [
       "<Figure size 432x288 with 1 Axes>"
      ]
     },
     "metadata": {
      "needs_background": "light"
     },
     "output_type": "display_data"
    }
   ],
   "source": [
    "GRUtrainPredict = scaler.inverse_transform(np.array(gru_history).reshape(len(gru_history), 1))\n",
    "GRUtrainPredictPlot = np.empty_like(dataset)\n",
    "GRUtrainPredictPlot[:, :] = np.nan\n",
    "GRUtrainPredictPlot[look_back:len(GRUtrainPredict)+look_back, :] = GRUtrainPredict\n",
    "\n",
    "GRUtestPredict = scaler.inverse_transform(np.array(gru_y_test).reshape(len(gru_y_test), 1))\n",
    "GRUtestPredictPlot = np.empty_like(dataset)\n",
    "GRUtestPredictPlot[:, :] = np.nan\n",
    "GRUtestPredictPlot[look_back:len(GRUtestPredict)+look_back, :] = GRUtestPredict\n",
    "\n",
    "plt.autoscale(axis='x', tight=True)\n",
    "plt.plot(scaler.inverse_transform(dataset))\n",
    "plt.plot(GRUtrainPredictPlot)\n",
    "plt.plot(x[4:45],GRUtestPredictPlot[5:46])\n",
    "plt.show()"
   ]
  },
  {
   "cell_type": "markdown",
   "metadata": {},
   "source": [
    "### Часть 2. RNN и обработка текстов"
   ]
  },
  {
   "cell_type": "markdown",
   "metadata": {},
   "source": [
    "В этом задании мы будем использовать файл author-quote.txt"
   ]
  },
  {
   "cell_type": "code",
   "execution_count": 1,
   "metadata": {},
   "outputs": [],
   "source": [
    "import numpy as np\n",
    "from sklearn.model_selection import train_test_split\n",
    "import matplotlib.pyplot as plt\n",
    "from torch import optim\n",
    "import torch\n",
    "from torch import nn\n",
    "import pandas\n",
    "from torch.nn import Parameter\n",
    "from torch.nn import MSELoss\n",
    "from sklearn.preprocessing import MinMaxScaler\n",
    "from torch.utils.data import DataLoader, Dataset, TensorDataset\n",
    "import progressbar\n",
    "import tqdm\n",
    "%matplotlib inline"
   ]
  },
  {
   "cell_type": "code",
   "execution_count": 2,
   "metadata": {},
   "outputs": [
    {
     "data": {
      "text/plain": [
       "<torch._C.Generator at 0x26b6e3d0550>"
      ]
     },
     "execution_count": 2,
     "metadata": {},
     "output_type": "execute_result"
    }
   ],
   "source": [
    "np.random.seed(777)\n",
    "torch.random.manual_seed(777)"
   ]
  },
  {
   "cell_type": "code",
   "execution_count": 3,
   "metadata": {},
   "outputs": [
    {
     "data": {
      "text/plain": [
       "'Weeds are flowers too, once you get to know them.'"
      ]
     },
     "execution_count": 3,
     "metadata": {},
     "output_type": "execute_result"
    }
   ],
   "source": [
    "lines = [x.split('\\t')[1].strip() for x in open('author-quote.txt').readlines()]\n",
    "# lines = [x.split('\\t')[0].strip() for x in open('mama.txt',encoding='utf-8').readlines()]\n",
    "lines[4]"
   ]
  },
  {
   "cell_type": "code",
   "execution_count": 4,
   "metadata": {},
   "outputs": [
    {
     "data": {
      "image/png": "[encoded data removed]",
      "text/plain": [
       "<Figure size 432x288 with 1 Axes>"
      ]
     },
     "metadata": {
      "needs_background": "light"
     },
     "output_type": "display_data"
    }
   ],
   "source": [
    "lines_len = []\n",
    "for l in map(len, lines):\n",
    "    lines_len.append(l)\n",
    "\n",
    "plt.hist(lines_len, bins=100);"
   ]
  },
  {
   "cell_type": "code",
   "execution_count": 5,
   "metadata": {},
   "outputs": [],
   "source": [
    "lines = [l for l in filter(lambda x: len(x) <= 50, lines)]"
   ]
  },
  {
   "cell_type": "code",
   "execution_count": 6,
   "metadata": {},
   "outputs": [],
   "source": [
    "class Vocabulary:\n",
    "    def __init__(self, sentences):\n",
    "        all_characters = set()\n",
    "        for line in sentences:\n",
    "            all_characters |= set(line)\n",
    "        all_characters = list(all_characters)+['<eos>', '<go>']\n",
    "        self.all_characters = all_characters\n",
    "        self.char_to_id = {x[1]:x[0] for x in enumerate(all_characters)}\n",
    "        self.id_to_char = {x[0]:x[1] for x in enumerate(all_characters)}\n",
    "        self.size = len(all_characters)\n",
    "\n",
    "    def encode(self, line):\n",
    "        return [self.char_to_id[x] for x in line]\n",
    "    \n",
    "    def decode(self, tokens):\n",
    "        return ''.join([self.id_to_char[x] for x in tokens])\n",
    "    \n",
    "vocab = Vocabulary(lines)"
   ]
  },
  {
   "cell_type": "code",
   "execution_count": 7,
   "metadata": {},
   "outputs": [],
   "source": [
    "listok = vocab.all_characters\n",
    "a = vocab.encode(listok)"
   ]
  },
  {
   "cell_type": "code",
   "execution_count": 8,
   "metadata": {},
   "outputs": [
    {
     "data": {
      "text/plain": [
       "74"
      ]
     },
     "execution_count": 8,
     "metadata": {},
     "output_type": "execute_result"
    }
   ],
   "source": [
    "vocab.char_to_id['<go>']"
   ]
  },
  {
   "cell_type": "code",
   "execution_count": 9,
   "metadata": {},
   "outputs": [],
   "source": [
    "# <go>, <eos> - специальные токены начала и конца последовательности, нужны для работы предсказаний\n",
    "class Quotes(Dataset):\n",
    "    def __init__(self, sentences, vocab):\n",
    "        # Construct vocabulary + EOS & GO tokens\n",
    "        self.sentences = sentences\n",
    "        self.vocab = vocab\n",
    "        self.go = self.vocab.char_to_id['<go>']\n",
    "        self.eos = self.vocab.char_to_id['<eos>']\n",
    "        \n",
    "    def __len__(self):\n",
    "        return len(self.sentences)\n",
    "        \n",
    "    def __getitem__(self, idx):\n",
    "        tokens = self.vocab.encode(self.sentences[idx])\n",
    "        _input = np.array([self.go]+tokens)\n",
    "        _output = np.array(tokens+[self.eos])\n",
    "        return _input, _output"
   ]
  },
  {
   "cell_type": "code",
   "execution_count": 10,
   "metadata": {},
   "outputs": [],
   "source": [
    "# Для работы pack_padded_sequence\n",
    "def compose_batch(batch):\n",
    "    order = np.argsort([-len(x[0]) for x in batch])\n",
    "    lengths = np.array([len(x[0]) for x in batch])\n",
    "    go = torch.zeros(len(batch), lengths[order[0]]).long()\n",
    "    eos = torch.zeros(len(batch), lengths[order[0]]).long()\n",
    "    mask = torch.zeros(len(batch), lengths[order[0]]).long()\n",
    "    for i in range(len(batch)):\n",
    "        current_go, current_eos = batch[i]\n",
    "        go[i, :len(current_go)] = torch.tensor(current_go)\n",
    "        eos[i, :len(current_eos)] = torch.tensor(current_eos)\n",
    "        mask[i, :len(current_go)] = 1\n",
    "    mask = mask[order]\n",
    "    go = go[order]\n",
    "    eos = eos[order]\n",
    "    lengths = lengths[order]\n",
    "    return go, eos, mask, lengths"
   ]
  },
  {
   "cell_type": "code",
   "execution_count": 11,
   "metadata": {},
   "outputs": [],
   "source": [
    "dataset = Quotes(lines, vocab)\n",
    "dataloader = DataLoader(dataset, shuffle=True, batch_size=64, collate_fn=compose_batch)"
   ]
  },
  {
   "cell_type": "markdown",
   "metadata": {},
   "source": [
    "а) Напишите код класса Oracle"
   ]
  },
  {
   "cell_type": "code",
   "execution_count": 79,
   "metadata": {},
   "outputs": [],
   "source": [
    "class Oracle(nn.Module):\n",
    "    def __init__(self,name, vocabulary_size, embedding_size=128, hidden_size=256, layers=2):\n",
    "        super(Oracle, self).__init__()\n",
    "        self.embedding_size = embedding_size\n",
    "        self.layers = layers\n",
    "        self.hidden_size = hidden_size\n",
    "        self.name = name\n",
    "        self.embedding = nn.Embedding(vocabulary_size, embedding_size)\n",
    "        if (name == 'gru'):\n",
    "            self.generator = nn.GRU(embedding_size, hidden_size, layers, batch_first=False)\n",
    "        if (name == 'lstm'):\n",
    "            self.generator = nn.LSTM(embedding_size, hidden_size, layers, batch_first=False)\n",
    "        self.classifier = nn.Linear(hidden_size, vocabulary_size)\n",
    "        self.softmax = nn.Softmax(dim=2)\n",
    "                    \n",
    "    # 1) Генерируем эмбединги входных токенов (из _input), пакуем в pack_padded_sequence, используя lengths\n",
    "    # 2) Запускаем generator на эмбедингах, пакуем его вывод в pad_packed_sequence\n",
    "    # 3) Возвращаем предикты (пока без SoftMax) через self.classifier\n",
    "    \n",
    "    def forward(self, _input, lengths):\n",
    "        ## YOUR CODE HERE\n",
    "        X = self.embedding(_input)\n",
    "        X = torch.transpose(X, 0 ,1)\n",
    "        X = nn.utils.rnn.pack_padded_sequence(X, lengths)\n",
    "        X, _ = self.generator(X)\n",
    "        X, _ = nn.utils.rnn.pad_packed_sequence(X)\n",
    "#         print(self.classifier(X).size())\n",
    "        return self.classifier(X)\n",
    "\n",
    "    \n",
    "    \n",
    "    # Генерирует последовательность (когда уже обучен). Токены переводим в id с помощью vocab.char_to_id,\n",
    "    # обратно - с помощью vocab.id_to_char\n",
    "    # Первый токен - <go>, делаем embeding. Далее generator -- classifier -- softmax.\n",
    "    # Слово сэмплируем с помощью torch.distributions.Categorical, оно становится новым токеном\n",
    "    # Повторяем, пока не будет <eos> или не достигнем max_len\n",
    "    # Возвращаем - сгенерированную строку\n",
    "    def generate(self, vocab, max_len=100):\n",
    "        with torch.no_grad():\n",
    "            string = []\n",
    "            if(self.name == 'lstm'):\n",
    "                h = (torch.zeros(self.layers, 1, self.hidden_size).cuda(),\n",
    "                     torch.zeros(self.layers, 1, self.hidden_size).cuda())\n",
    "            else:\n",
    "                h = torch.zeros(self.layers, 1, self.hidden_size).cuda()\n",
    "            X = vocab.char_to_id['<go>']\n",
    "            for _ in range(max_len):\n",
    "                X = torch.tensor([[X]], device = 'cuda')\n",
    "                X = self.embedding(X)                        \n",
    "                X, h = self.generator(X, h)\n",
    "                X = self.classifier(X)\n",
    "                \n",
    "                soft = self.softmax(X)\n",
    "                m = torch.distributions.Categorical(soft)\n",
    "                char = vocab.id_to_char[m.sample().item()]\n",
    "                X = vocab.char_to_id[char]\n",
    "                \n",
    "                if(char == '<eos>'):\n",
    "                    break\n",
    "                else:\n",
    "                    string.append(char)\n",
    "            \n",
    "        return string"
   ]
  },
  {
   "cell_type": "markdown",
   "metadata": {},
   "source": [
    "б) Обучите модель. Приведите примеры сгенеррованных предложений"
   ]
  },
  {
   "cell_type": "code",
   "execution_count": 80,
   "metadata": {},
   "outputs": [
    {
     "data": {
      "text/plain": [
       "Oracle(\n",
       "  (embedding): Embedding(75, 32)\n",
       "  (generator): LSTM(32, 64, num_layers=2)\n",
       "  (classifier): Linear(in_features=64, out_features=75, bias=True)\n",
       "  (softmax): Softmax(dim=2)\n",
       ")"
      ]
     },
     "execution_count": 80,
     "metadata": {},
     "output_type": "execute_result"
    }
   ],
   "source": [
    "oracle_lstm = Oracle('lstm',vocab.size, embedding_size=32, hidden_size=64, layers=2)\n",
    "oracle_lstm.to(device='cuda')"
   ]
  },
  {
   "cell_type": "code",
   "execution_count": 81,
   "metadata": {},
   "outputs": [],
   "source": [
    "criterion = nn.CrossEntropyLoss(reduction='none')\n",
    "losses = []\n",
    "optimizer = torch.optim.Adagrad(oracle_lstm.parameters(), lr=0.01)"
   ]
  },
  {
   "cell_type": "code",
   "execution_count": 82,
   "metadata": {},
   "outputs": [],
   "source": [
    "# Чтобы снизить колебания\n",
    "def moving_average(a, n=20) :\n",
    "    ret = np.cumsum(a, dtype=float)\n",
    "    ret[n:] = ret[n:] - ret[:-n]\n",
    "    return ret[n - 1:] / n"
   ]
  },
  {
   "cell_type": "code",
   "execution_count": 83,
   "metadata": {},
   "outputs": [
    {
     "data": {
      "image/png": "[encoded data removed]",
      "text/plain": [
       "<Figure size 432x288 with 1 Axes>"
      ]
     },
     "metadata": {
      "needs_background": "light"
     },
     "output_type": "display_data"
    },
    {
     "name": "stdout",
     "output_type": "stream",
     "text": [
      "Starms to be suppally anly best plabal onsomagpionel.\n"
     ]
    },
    {
     "name": "stderr",
     "output_type": "stream",
     "text": [
      "100%|██████████████████████████████████████████████████████████████████████████████████| 57/57 [00:02<00:00, 16.59it/s]\n"
     ]
    }
   ],
   "source": [
    "import progressbar\n",
    "import tqdm\n",
    "from IPython.display import clear_output\n",
    "\n",
    "for epoch in range(1000):\n",
    "    bar = progressbar.ProgressBar()\n",
    "    for i, (go, eos, mask, length) in enumerate(tqdm.tqdm(dataloader, total=len(dataloader))):\n",
    "        oracle_lstm.zero_grad()\n",
    "#         oracle.hidden = torch.zeros(oracle.layers,go.size(0), oracle.hidden_size).cuda()\n",
    "#         oracle_lstm.hidden = (torch.zeros(oracle_lstm.layers,go.size(0),oracle_lstm.hidden_size).cuda(),\n",
    "#                               torch.zeros(oracle_lstm.layers,go.size(0),oracle_lstm.hidden_size).cuda())\n",
    "        go = go.to('cuda')\n",
    "        eos = eos.to('cuda')\n",
    "        mask = mask.to('cuda')\n",
    "        prediction = oracle_lstm(go, length).transpose(0, 1).transpose(1, 2)\n",
    "        \n",
    "        loss = (criterion(prediction, eos)*mask.float()).mean()\n",
    "        loss.backward(retain_graph = True)\n",
    "        [x.grad.clamp_(-1, 1) for x in oracle_lstm.parameters()]\n",
    "        optimizer.step()\n",
    "        losses.append(np.exp(loss.item()))\n",
    "        if i % 50 == 0:\n",
    "            clear_output(True)\n",
    "            plt.plot(losses, label='Train')\n",
    "            plt.plot(moving_average(losses), label='MA@20')\n",
    "            plt.xlabel('iteration')\n",
    "            plt.ylabel('perplexity')\n",
    "            plt.legend()\n",
    "            plt.grid()\n",
    "            plt.show()\n",
    "            string = ''.join(oracle_lstm.generate(vocab))\n",
    "            print(string)\n",
    "        "
   ]
  },
  {
   "cell_type": "code",
   "execution_count": 84,
   "metadata": {},
   "outputs": [
    {
     "name": "stdout",
     "output_type": "stream",
     "text": [
      "I like women of two musit of love is my life?\n",
      "The hers your people do it's people we polen.\n",
      "Never resturs are with upporsent as hardement.\n",
      "Praise, drove is planged.\n",
      "Prusts in the were.\n",
      "Be music is the film lection.\n",
      "It's arome difference.\n",
      "We don't need in our could are excuse Sutioused.\n",
      "I am; betrealion word for enjoy.\n",
      "Helle real things so divil well umseldoled rather.\n",
      "Abophen is alraaderolition. I'm not it.\n",
      "Really your popletice love bitany Conscivining life.\n",
      "If you been hax artities tears.\n",
      "Ins brey seather oubseres who I shoot to streng.\n",
      "Conscciess is a Centrel' let forbot.\n",
      "Denows sucrives the live differected of how slaml.\n",
      "I'm not a plazy? Hate dayginaling light.\n",
      "Whoboud works like a gomen generant.\n",
      "I am a freedom, you gave fagan.\n",
      "I was in the Demation was pensionfy.\n",
      "My confess really hurrres.\n",
      "Never came comb to be a sastar. Bereapter.\n",
      "God ished Londist is of my family.\n",
      "I give sunch a kils a distart.\n",
      "Everything is peating fate.\n",
      "You've guing my paxity.\n",
      "My man is action.\n",
      "I contthan I got always wear that felf chelpe.\n",
      "No have buned wrotes an ofwimision, self.\n",
      "I always just play feel its and here.\n",
      "Grayth is shrettenct. that I'm will playing.\n",
      "I can't enjoned and luwing can afrised.\n",
      "I have in just begins by arh home sertanse.\n",
      "Every cearly faide.\n",
      "Age ashab ton in the histous.\n",
      "My, wonder neation Lad for writing.\n",
      "You shoke'r the wruckness.\n",
      "A pition me opsicaralic is a person to be a rathe.\n",
      "Ijutest deepsogophires a - right.\n",
      "You deed, end possom.\n",
      "The way of servent a buntrabity.\n",
      "I can't let, you can know underepting heart.\n",
      "Obpishon mobative is one show us ourself.\n",
      "Nod how yourness, more golvesting who is a or.\n",
      "The faithor who hate all but don't yis on muse.\n",
      "I lying do by pass life. You can does not kind.\n",
      "The nom hate in imistor, and I'm not a clouting.\n",
      "In tour and one often masned is a difobough.\n",
      "A life, I love to num live a pare is chaco.\n",
      "We really but I love the cornourral in eze.\n",
      "Even friend comparins.\n",
      "I makll sinnescty, is the heart pidy starly.\n",
      "I could presons in extible govess.\n",
      "I don't get matter gentle, but me a dremam.\n",
      "What tordudeist is firmence of the potect the Jounds.\n",
      "Music me consity to eat the hafk.\n",
      "Weed is dequath to lond.\n",
      "Hyipten the souce ow monation.\n",
      "I am a from hord with gaxremad over our.\n",
      "The Frum fouture not.\n",
      "SGnids are the shping for the right to criver.\n",
      "If you just sex in lonest postsice.\n",
      "I'm a begins thing cheeline.\n",
      "I was an a great. I am used a day with best, men.\n",
      "I do new not quibidity.\n",
      "One without staver inno pain that as happy.\n",
      "Men are so gury, I onls wreaple thy spaid.\n",
      "With are some, result, at all women real castive, there.\n",
      "Errors are an Godry hard to side.\n",
      "Lisfuce poin a bemoless of SVoot costs.\n",
      "The moon is to be ht.i't is only madas.\n",
      "Porice is fils from the boy trant of lonk.\n",
      "Chosece is if makiene saye verfason.\n",
      "Great knowhed is no hcritial, I can I need lead.\n",
      "I song for man's One is praud time.\n",
      "I love than a smart frowneral than mubloo.\n",
      "Streand is justiolity relection outhing.\n",
      "Geeven yaite not is to styer thing.\n",
      "I marte me one tamalls.\n",
      "A pribusiws makes being loves for Mase.\n",
      "I cishere two is my chains wainly on houng things.\n",
      "Gody laygunts do not most a spard is far.\n",
      "Agean paints when it, you can don hwose?\n",
      "Hony conepeness casserone, I could' alf changireces.\n",
      "Huppilition, I give not came.\n",
      "Arcass are Yound. me power essenticit.\n",
      "For end of a child outmmation consisions.\n",
      "Ilways want to know &t!'t, my life musizan polepsion.\n",
      "Harpinest for mes, I'm kind on vicely on have more of.\n",
      "Cryic the drineading is worth be.\n",
      "Never ear the nummere to - of finunt of the man.\n",
      "I'm not a living in the Carmadicarone did my.\n",
      "I write in moorrtam to yoursel was desines!\n",
      "I was a see genism to be degerned Cornnation.\n",
      "I'm breakupsen of the workestingent.\n",
      "Eworvound care busih fools fundy.\n",
      "Leave and way it's niburned. I don't can Kids, not a believe.\n",
      "Trunser Godes the keepy, I reat speet.\n",
      "For i loved by the cyrong of all that you here.\n",
      "I would drew with a patian of Driging is heart.\n"
     ]
    }
   ],
   "source": [
    "oracle_lstm.eval()\n",
    "for _ in range(100):\n",
    "    string = ''.join(oracle_lstm.generate(vocab))\n",
    "    print(string)"
   ]
  },
  {
   "cell_type": "markdown",
   "metadata": {},
   "source": [
    "в) Обучить сеть с LSTM вместо GRU\n",
    "\n",
    "г) Сделать разбиение train-test и нарисровать графики зависимости перплексии от числа эпох\n",
    "\n",
    "д) Подобрать гиперпараметры, добиться лучшей перплексии чем с параметрами по умолчанию"
   ]
  },
  {
   "cell_type": "markdown",
   "metadata": {},
   "source": [
    "**Спасибо за выполнение заданий!**"
   ]
  },
  {
   "cell_type": "code",
   "execution_count": 85,
   "metadata": {},
   "outputs": [
    {
     "data": {
      "text/plain": [
       "Oracle(\n",
       "  (embedding): Embedding(75, 32)\n",
       "  (generator): GRU(32, 64, num_layers=2)\n",
       "  (classifier): Linear(in_features=64, out_features=75, bias=True)\n",
       "  (softmax): Softmax(dim=2)\n",
       ")"
      ]
     },
     "execution_count": 85,
     "metadata": {},
     "output_type": "execute_result"
    }
   ],
   "source": [
    "oracle_gru = Oracle('gru',vocab.size, embedding_size=32, hidden_size=64, layers=2)\n",
    "oracle_gru.to(device='cuda')"
   ]
  },
  {
   "cell_type": "code",
   "execution_count": 86,
   "metadata": {},
   "outputs": [],
   "source": [
    "criterion = nn.CrossEntropyLoss(reduction='none')\n",
    "losses = []\n",
    "optimizer = torch.optim.Adagrad(oracle_gru.parameters(), lr=0.01)"
   ]
  },
  {
   "cell_type": "code",
   "execution_count": null,
   "metadata": {},
   "outputs": [
    {
     "data": {
      "image/png": "[encoded data removed]",
      "text/plain": [
       "<Figure size 432x288 with 1 Axes>"
      ]
     },
     "metadata": {
      "needs_background": "light"
     },
     "output_type": "display_data"
    },
    {
     "name": "stdout",
     "output_type": "stream",
     "text": [
      "Gimit is a name, you vamries from more.\n",
      "906\n"
     ]
    },
    {
     "name": "stderr",
     "output_type": "stream",
     "text": [
      "  7%|█████▊                                                                             | 4/57 [00:00<00:16,  3.23it/s]"
     ]
    }
   ],
   "source": [
    "for epoch in range(1000):\n",
    "    bar = progressbar.ProgressBar()\n",
    "    for i, (go, eos, mask, length) in enumerate(tqdm.tqdm(dataloader, total=len(dataloader))):\n",
    "        oracle_gru.zero_grad()\n",
    "        go = go.to('cuda')\n",
    "        eos = eos.to('cuda')\n",
    "        mask = mask.to('cuda')\n",
    "        prediction = oracle_gru(go, length).transpose(0, 1).transpose(1, 2)\n",
    "        \n",
    "        loss = (criterion(prediction, eos)*mask.float()).mean()\n",
    "        loss.backward(retain_graph = True)\n",
    "        [x.grad.clamp_(-1, 1) for x in oracle_gru.parameters()]\n",
    "        optimizer.step()\n",
    "        losses.append(np.exp(loss.item()))\n",
    "        if i % 50 == 0:\n",
    "            clear_output(True)\n",
    "            plt.plot(losses, label='Train')\n",
    "            plt.plot(moving_average(losses), label='MA@20')\n",
    "            plt.xlabel('iteration')\n",
    "            plt.ylabel('perplexity')\n",
    "            plt.legend()\n",
    "            plt.grid()\n",
    "            plt.show()\n",
    "            string = ''.join(oracle_gru.generate(vocab))\n",
    "            print(string)\n",
    "            print(epoch)"
   ]
  },
  {
   "cell_type": "code",
   "execution_count": null,
   "metadata": {},
   "outputs": [],
   "source": [
    "oracle_gru.eval()\n",
    "for _ in range(100):\n",
    "    string = ''.join(oracle_gru.generate(vocab))\n",
    "    print(string)"
   ]
  },
  {
   "cell_type": "code",
   "execution_count": null,
   "metadata": {},
   "outputs": [],
   "source": []
  },
  {
   "cell_type": "code",
   "execution_count": null,
   "metadata": {},
   "outputs": [],
   "source": []
  }
 ],
 "metadata": {
  "kernelspec": {
   "display_name": "Python 3",
   "language": "python",
   "name": "python3"
  },
  "language_info": {
   "codemirror_mode": {
    "name": "ipython",
    "version": 3
   },
   "file_extension": ".py",
   "mimetype": "text/x-python",
   "name": "python",
   "nbconvert_exporter": "python",
   "pygments_lexer": "ipython3",
   "version": "3.7.3"
  }
 },
 "nbformat": 4,
 "nbformat_minor": 4
}
