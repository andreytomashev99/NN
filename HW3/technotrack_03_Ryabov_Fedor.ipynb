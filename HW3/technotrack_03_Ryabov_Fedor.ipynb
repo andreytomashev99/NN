{
 "cells": [
  {
   "cell_type": "markdown",
   "metadata": {},
   "source": [
    "## ДЗ №3: Рекуррентные нейронные сети.  Обработка естественного языка"
   ]
  },
  {
   "cell_type": "markdown",
   "metadata": {},
   "source": [
    "### Пожалуйста, заполните имя"
   ]
  },
  {
   "cell_type": "code",
   "execution_count": 1,
   "metadata": {},
   "outputs": [],
   "source": [
    "STUDENT_NAME = \"Ryabov Fedor\" # For example, Fedor Petriaikin"
   ]
  },
  {
   "cell_type": "code",
   "execution_count": 2,
   "metadata": {},
   "outputs": [],
   "source": [
    "import numpy as np\n",
    "from sklearn.model_selection import train_test_split\n",
    "import matplotlib.pyplot as plt\n",
    "from torch import optim\n",
    "import torch\n",
    "from torch import nn\n",
    "import pandas\n",
    "from sklearn.preprocessing import MinMaxScaler\n",
    "from torch.utils.data import DataLoader, Dataset, TensorDataset\n",
    "from torch.autograd import Variable\n",
    "from tqdm import tqdm\n",
    "from torch.nn.utils.rnn import pack_padded_sequence, pad_packed_sequence\n",
    "%matplotlib inline"
   ]
  },
  {
   "cell_type": "markdown",
   "metadata": {},
   "source": [
    "**Не удаляйте клетки из этого jupyter-notebok! Это затруднит проверку!**\n",
    "\n",
    "В этом задании вам предстоит попробовать различные рекуррентные архитектуры для предсказания временного ряда и написания простейшего чат-бота.\n"
   ]
  },
  {
   "cell_type": "markdown",
   "metadata": {},
   "source": [
    "### Часть 1. Предсказание временного ряда"
   ]
  },
  {
   "cell_type": "markdown",
   "metadata": {},
   "source": [
    "а) Напишите свою реализацию LSTM\n",
    "<img src=\"https://cdn-images-1.medium.com/max/1600/1*hl9UVtgIcQkDIGD8VFykdw.png\" width=\"640\">"
   ]
  },
  {
   "cell_type": "code",
   "execution_count": 239,
   "metadata": {},
   "outputs": [],
   "source": [
    "# Кстати, на вход в pytorch-реализацию можно подавать последовательности разной длины.\n",
    "# См. torch.nn.utils.rnn.pack_padded_sequence() и torch.nn.utils.rnn.pack_sequence()\n",
    "class LSTM_my(nn.Module):\n",
    "    def __init__(self, input_size, hidden_size, output_size):\n",
    "        super(LSTM_my, self).__init__()\n",
    "        self.input_size = input_size\n",
    "        self.hidden_size = hidden_size\n",
    "        self.linear_f = nn.Linear(input_size + hidden_size, hidden_size)\n",
    "        self.linear_i = nn.Linear(input_size + hidden_size, hidden_size)\n",
    "        self.linear_g = nn.Linear(input_size + hidden_size, hidden_size)\n",
    "        self.linear_o = nn.Linear(input_size + hidden_size, hidden_size)\n",
    "        self.sigmoid = nn.Sigmoid()\n",
    "        self.tanh = nn.Tanh()\n",
    "        self.hid2out = nn.Linear(hidden_size, hidden_size)\n",
    "        self.pred_layer = nn.Linear(hidden_size, 1)\n",
    "        self.hidden_cell = (torch.zeros(1, 1, self.hidden_size),\n",
    "                            torch.zeros(1, 1, self.hidden_size))\n",
    "    \n",
    "    # Пропускает через себя последовательность и выдает последний выход\n",
    "    # X: (seq_len, batch_size, input_size)\n",
    "    # hidden = (hidden, C): (batch_size, hidden_size)x2 - чтобы начать предсказания с какого-то момента\n",
    "    # Если None, инициализировать нулями\n",
    "    # Возвращает out, h, c, где (h, c) - выход и скрытое состояние после последнего элемента\n",
    "    # out - (seq_len, batch, hidden_size) - выходы каждого слоя\n",
    "    def lstm_cell(self, x):\n",
    "        hidden, c = self.hidden_cell\n",
    "        concat = torch.cat((hidden.squeeze(0), x.unsqueeze(0)), dim=1)\n",
    "        f_t = self.sigmoid(self.linear_f(concat))\n",
    "        i_t = self.sigmoid(self.linear_i(concat))\n",
    "        g_t = self.tanh(self.linear_g(concat))\n",
    "        o_t = self.sigmoid(self.linear_o(concat))\n",
    "        c = torch.mul(f_t, c)\n",
    "        i_g = torch.mul(i_t, g_t)\n",
    "        c = torch.add(c, i_g)\n",
    "        hidden = self.tanh(c)\n",
    "        hidden = torch.mul(hidden, o_t)\n",
    "        out = self.sigmoid(self.hid2out(hidden))\n",
    "        return out, (hidden, c)\n",
    "    def forward(self, X, look_forward=1):\n",
    "        output = []\n",
    "        for i, x in enumerate(X):\n",
    "            out, self.hidden_cell = self.lstm_cell(x)\n",
    "        out = out.squeeze(0)\n",
    "        predictions = self.pred_layer(out)\n",
    "        prediction = predictions[-1]\n",
    "        prediction_list = [prediction]\n",
    "        for i in range(look_forward - 1):\n",
    "            out, self.hidden_cell = self.lstm_cell(prediction)\n",
    "            predictions = self.pred_layer(out.squeeze(0))\n",
    "            prediction_list.append(predictions[-1])\n",
    "        return torch.stack(prediction_list, dim=1)"
   ]
  },
  {
   "cell_type": "markdown",
   "metadata": {},
   "source": [
    "б) Напишите код обучения LSTM на представленных данных"
   ]
  },
  {
   "cell_type": "markdown",
   "metadata": {},
   "source": [
    "### Сразу оговорюсь - выбрал не adagrad, а adam. Лучше работал, хотелось красивых картинок. Обучал на 300 эпохах, постепенно снижая learning rate. look_forward=1 лучше всего получилось."
   ]
  },
  {
   "cell_type": "code",
   "execution_count": 253,
   "metadata": {},
   "outputs": [
    {
     "data": {
      "image/png": "[encoded data removed]",
      "text/plain": [
       "<Figure size 432x288 with 1 Axes>"
      ]
     },
     "metadata": {
      "needs_background": "light"
     },
     "output_type": "display_data"
    },
    {
     "data": {
      "text/html": [
       "<div>\n",
       "<style scoped>\n",
       "    .dataframe tbody tr th:only-of-type {\n",
       "        vertical-align: middle;\n",
       "    }\n",
       "\n",
       "    .dataframe tbody tr th {\n",
       "        vertical-align: top;\n",
       "    }\n",
       "\n",
       "    .dataframe thead th {\n",
       "        text-align: right;\n",
       "    }\n",
       "</style>\n",
       "<table border=\"1\" class=\"dataframe\">\n",
       "  <thead>\n",
       "    <tr style=\"text-align: right;\">\n",
       "      <th></th>\n",
       "      <th>International airline passengers: monthly totals in thousands. Jan 49 ? Dec 60</th>\n",
       "    </tr>\n",
       "  </thead>\n",
       "  <tbody>\n",
       "    <tr>\n",
       "      <th>0</th>\n",
       "      <td>112</td>\n",
       "    </tr>\n",
       "    <tr>\n",
       "      <th>1</th>\n",
       "      <td>118</td>\n",
       "    </tr>\n",
       "    <tr>\n",
       "      <th>2</th>\n",
       "      <td>132</td>\n",
       "    </tr>\n",
       "    <tr>\n",
       "      <th>3</th>\n",
       "      <td>129</td>\n",
       "    </tr>\n",
       "    <tr>\n",
       "      <th>4</th>\n",
       "      <td>121</td>\n",
       "    </tr>\n",
       "  </tbody>\n",
       "</table>\n",
       "</div>"
      ],
      "text/plain": [
       "   International airline passengers: monthly totals in thousands. Jan 49 ? Dec 60\n",
       "0                                                112                             \n",
       "1                                                118                             \n",
       "2                                                132                             \n",
       "3                                                129                             \n",
       "4                                                121                             "
      ]
     },
     "execution_count": 253,
     "metadata": {},
     "output_type": "execute_result"
    }
   ],
   "source": [
    "# График (*)\n",
    "%matplotlib inline\n",
    "dataset = pandas.read_csv('international-airline-passengers.csv', usecols=[1], delimiter=\";\", engine='python', skipfooter=3)\n",
    "plt.plot(dataset)\n",
    "plt.show()\n",
    "data = pandas.read_csv('international-airline-passengers.csv', usecols=[1], delimiter=\";\", engine='python', skipfooter=3)\n",
    "data.head()"
   ]
  },
  {
   "cell_type": "code",
   "execution_count": 254,
   "metadata": {},
   "outputs": [],
   "source": [
    "# подготовливаем данные\n",
    "dataset = dataset.values\n",
    "dataset = dataset.astype('float32')\n",
    "scaler = MinMaxScaler(feature_range=(0, 1))\n",
    "dataset = scaler.fit_transform(dataset)"
   ]
  },
  {
   "cell_type": "code",
   "execution_count": 255,
   "metadata": {},
   "outputs": [
    {
     "name": "stdout",
     "output_type": "stream",
     "text": [
      "96 48\n"
     ]
    }
   ],
   "source": [
    "# разбиваем данные на train / test\n",
    "train_size = int(len(dataset) * 0.67)\n",
    "test_size = len(dataset) - train_size\n",
    "train, test = dataset[0:train_size,:], dataset[train_size:len(dataset),:]\n",
    "print(len(train), len(test))"
   ]
  },
  {
   "cell_type": "code",
   "execution_count": 256,
   "metadata": {},
   "outputs": [],
   "source": [
    "# Целевая переменная - сдвинутая последовательность значений входов\n",
    "# look_back - на сколько смещен test относительно train (seq_len)\n",
    "# look_forward - сколько нужно предсказать\n",
    "def create_dataset(dataset, look_back=5, look_forward=1):\n",
    "    dataX = []\n",
    "    for i in range(len(dataset) - look_back):\n",
    "        a = dataset[i: i + look_back]\n",
    "        train_label = dataset[i + look_back: i + look_back + look_forward]\n",
    "        dataX.append((a ,train_label))\n",
    "    return dataX"
   ]
  },
  {
   "cell_type": "code",
   "execution_count": 257,
   "metadata": {},
   "outputs": [],
   "source": [
    "# Пример подготовленных данных\n",
    "look_back = 12\n",
    "look_forward = 2\n",
    "train_tensor = torch.FloatTensor(train).view(-1)\n",
    "train_data = create_dataset(train_tensor, look_back=look_back, look_forward=look_forward)"
   ]
  },
  {
   "cell_type": "code",
   "execution_count": 258,
   "metadata": {},
   "outputs": [],
   "source": [
    "learning_rate = 0.001\n",
    "model = LSTM_my(1, 100, 1)"
   ]
  },
  {
   "cell_type": "code",
   "execution_count": 259,
   "metadata": {},
   "outputs": [
    {
     "name": "stderr",
     "output_type": "stream",
     "text": [
      "  0%|          | 0/150 [00:00<?, ?it/s]/home/fedor/miniconda3/envs/venv_for_homeworks/lib/python3.7/site-packages/torch/nn/modules/loss.py:431: UserWarning: Using a target size (torch.Size([2])) that is different to the input size (torch.Size([1, 2])). This will likely lead to incorrect results due to broadcasting. Please ensure they have the same size.\n",
      "  return F.mse_loss(input, target, reduction=self.reduction)\n",
      "/home/fedor/miniconda3/envs/venv_for_homeworks/lib/python3.7/site-packages/torch/nn/modules/loss.py:431: UserWarning: Using a target size (torch.Size([1])) that is different to the input size (torch.Size([1, 2])). This will likely lead to incorrect results due to broadcasting. Please ensure they have the same size.\n",
      "  return F.mse_loss(input, target, reduction=self.reduction)\n",
      "  1%|▏         | 2/150 [00:01<01:16,  1.94it/s]"
     ]
    },
    {
     "name": "stdout",
     "output_type": "stream",
     "text": [
      "epoch:   1 loss: 0.00961844\n"
     ]
    },
    {
     "name": "stderr",
     "output_type": "stream",
     "text": [
      " 18%|█▊        | 27/150 [00:13<01:02,  1.97it/s]"
     ]
    },
    {
     "name": "stdout",
     "output_type": "stream",
     "text": [
      "epoch:  26 loss: 0.00786873\n"
     ]
    },
    {
     "name": "stderr",
     "output_type": "stream",
     "text": [
      " 35%|███▍      | 52/150 [00:26<00:50,  1.93it/s]"
     ]
    },
    {
     "name": "stdout",
     "output_type": "stream",
     "text": [
      "epoch:  51 loss: 0.00236445\n"
     ]
    },
    {
     "name": "stderr",
     "output_type": "stream",
     "text": [
      " 51%|█████▏    | 77/150 [00:39<00:37,  1.94it/s]"
     ]
    },
    {
     "name": "stdout",
     "output_type": "stream",
     "text": [
      "epoch:  76 loss: 0.00133539\n"
     ]
    },
    {
     "name": "stderr",
     "output_type": "stream",
     "text": [
      " 68%|██████▊   | 102/150 [00:51<00:24,  1.98it/s]"
     ]
    },
    {
     "name": "stdout",
     "output_type": "stream",
     "text": [
      "epoch: 101 loss: 0.00009085\n"
     ]
    },
    {
     "name": "stderr",
     "output_type": "stream",
     "text": [
      " 85%|████████▍ | 127/150 [01:03<00:11,  1.98it/s]"
     ]
    },
    {
     "name": "stdout",
     "output_type": "stream",
     "text": [
      "epoch: 126 loss: 0.00001104\n"
     ]
    },
    {
     "name": "stderr",
     "output_type": "stream",
     "text": [
      "100%|██████████| 150/150 [01:15<00:00,  1.99it/s]\n",
      "  0%|          | 0/150 [00:00<?, ?it/s]"
     ]
    },
    {
     "name": "stdout",
     "output_type": "stream",
     "text": [
      "epoch: 149 loss: 0.0007253333\n"
     ]
    },
    {
     "name": "stderr",
     "output_type": "stream",
     "text": [
      "  1%|▏         | 2/150 [00:01<01:17,  1.92it/s]"
     ]
    },
    {
     "name": "stdout",
     "output_type": "stream",
     "text": [
      "epoch:   1 loss: 0.00290154\n"
     ]
    },
    {
     "name": "stderr",
     "output_type": "stream",
     "text": [
      " 18%|█▊        | 27/150 [00:13<01:02,  1.96it/s]"
     ]
    },
    {
     "name": "stdout",
     "output_type": "stream",
     "text": [
      "epoch:  26 loss: 0.00006939\n"
     ]
    },
    {
     "name": "stderr",
     "output_type": "stream",
     "text": [
      " 35%|███▍      | 52/150 [00:26<00:45,  2.15it/s]"
     ]
    },
    {
     "name": "stdout",
     "output_type": "stream",
     "text": [
      "epoch:  51 loss: 0.00004295\n"
     ]
    },
    {
     "name": "stderr",
     "output_type": "stream",
     "text": [
      " 51%|█████▏    | 77/150 [00:38<00:37,  1.93it/s]"
     ]
    },
    {
     "name": "stdout",
     "output_type": "stream",
     "text": [
      "epoch:  76 loss: 0.00003172\n"
     ]
    },
    {
     "name": "stderr",
     "output_type": "stream",
     "text": [
      " 68%|██████▊   | 102/150 [00:51<00:24,  1.94it/s]"
     ]
    },
    {
     "name": "stdout",
     "output_type": "stream",
     "text": [
      "epoch: 101 loss: 0.00002887\n"
     ]
    },
    {
     "name": "stderr",
     "output_type": "stream",
     "text": [
      " 85%|████████▍ | 127/150 [01:03<00:11,  1.95it/s]"
     ]
    },
    {
     "name": "stdout",
     "output_type": "stream",
     "text": [
      "epoch: 126 loss: 0.00002694\n"
     ]
    },
    {
     "name": "stderr",
     "output_type": "stream",
     "text": [
      "100%|██████████| 150/150 [01:15<00:00,  1.99it/s]\n",
      "  0%|          | 0/150 [00:00<?, ?it/s]"
     ]
    },
    {
     "name": "stdout",
     "output_type": "stream",
     "text": [
      "epoch: 149 loss: 0.0000230920\n"
     ]
    },
    {
     "name": "stderr",
     "output_type": "stream",
     "text": [
      "  1%|▏         | 2/150 [00:00<01:11,  2.06it/s]"
     ]
    },
    {
     "name": "stdout",
     "output_type": "stream",
     "text": [
      "epoch:   1 loss: 0.00002146\n"
     ]
    },
    {
     "name": "stderr",
     "output_type": "stream",
     "text": [
      " 18%|█▊        | 27/150 [00:13<01:02,  1.97it/s]"
     ]
    },
    {
     "name": "stdout",
     "output_type": "stream",
     "text": [
      "epoch:  26 loss: 0.00002164\n"
     ]
    },
    {
     "name": "stderr",
     "output_type": "stream",
     "text": [
      " 35%|███▍      | 52/150 [00:26<00:50,  1.95it/s]"
     ]
    },
    {
     "name": "stdout",
     "output_type": "stream",
     "text": [
      "epoch:  51 loss: 0.00002241\n"
     ]
    },
    {
     "name": "stderr",
     "output_type": "stream",
     "text": [
      " 51%|█████▏    | 77/150 [00:39<00:38,  1.89it/s]"
     ]
    },
    {
     "name": "stdout",
     "output_type": "stream",
     "text": [
      "epoch:  76 loss: 0.00002293\n"
     ]
    },
    {
     "name": "stderr",
     "output_type": "stream",
     "text": [
      " 68%|██████▊   | 102/150 [00:51<00:24,  1.96it/s]"
     ]
    },
    {
     "name": "stdout",
     "output_type": "stream",
     "text": [
      "epoch: 101 loss: 0.00002315\n"
     ]
    },
    {
     "name": "stderr",
     "output_type": "stream",
     "text": [
      " 85%|████████▍ | 127/150 [01:04<00:11,  1.97it/s]"
     ]
    },
    {
     "name": "stdout",
     "output_type": "stream",
     "text": [
      "epoch: 126 loss: 0.00002314\n"
     ]
    },
    {
     "name": "stderr",
     "output_type": "stream",
     "text": [
      "100%|██████████| 150/150 [01:16<00:00,  1.97it/s]"
     ]
    },
    {
     "name": "stdout",
     "output_type": "stream",
     "text": [
      "epoch: 149 loss: 0.0000229721\n"
     ]
    },
    {
     "name": "stderr",
     "output_type": "stream",
     "text": [
      "\n"
     ]
    }
   ],
   "source": [
    "# Берет данные из dataloader, сам их сдвигает, формируя обучающую выборку\n",
    "# В качестве функции ошибок возьмите MSELoss, оптимизатор - Adagrad\n",
    "# В функцию можно добавить дополнительные параметры (например, max_epochs, условия останова...)\n",
    "def TrainModel(model, train_data, all_losses, max_epochs=100, learning_rate = 0.001):\n",
    "    loss_function = nn.MSELoss()\n",
    "    optimizer = torch.optim.Adam(model.parameters(), lr=learning_rate)\n",
    "    for i in tqdm(range(max_epochs)):\n",
    "        for seq, labels in train_data:\n",
    "            optimizer.zero_grad()\n",
    "            model.hidden_cell = (torch.zeros(1, 1, model.hidden_size),\n",
    "                            torch.zeros(1, 1, model.hidden_size))\n",
    "            if look_forward != 1:\n",
    "                y_pred = model(seq.unsqueeze(1), look_forward = look_forward)\n",
    "            else:\n",
    "                y_pred = model(seq.unsqueeze(1))\n",
    "            single_loss = loss_function(y_pred, labels)\n",
    "            all_losses.append(single_loss.item())\n",
    "            single_loss.backward()\n",
    "            optimizer.step()\n",
    "\n",
    "        if i % 25 == 1:\n",
    "            print(f'epoch: {i:3} loss: {single_loss.item():10.8f}')\n",
    "\n",
    "    print(f'epoch: {i:3} loss: {single_loss.item():10.10f}')\n",
    "    return model, all_losses\n",
    "all_losses = []\n",
    "learning_rate = 0.001\n",
    "for i in range(3):\n",
    "    model, all_losses = TrainModel(model, train_data, all_losses, max_epochs=150, learning_rate = learning_rate)\n",
    "    learning_rate /= 10"
   ]
  },
  {
   "cell_type": "code",
   "execution_count": 260,
   "metadata": {},
   "outputs": [
    {
     "data": {
      "image/png": "[encoded data removed]",
      "text/plain": [
       "<Figure size 432x288 with 1 Axes>"
      ]
     },
     "metadata": {
      "needs_background": "light"
     },
     "output_type": "display_data"
    }
   ],
   "source": [
    "plt.plot(all_losses)\n",
    "plt.title(\"train_loss\")\n",
    "plt.xlabel(\"iteration\")\n",
    "plt.ylabel(\"loss value\")\n",
    "plt.show()"
   ]
  },
  {
   "cell_type": "code",
   "execution_count": 261,
   "metadata": {},
   "outputs": [],
   "source": [
    "look_back = train_tensor.size(0)\n",
    "test_inputs = train_tensor[-look_back:].tolist()"
   ]
  },
  {
   "cell_type": "code",
   "execution_count": 262,
   "metadata": {},
   "outputs": [],
   "source": [
    "def predict(model, test_inputs, look_back):\n",
    "    model.eval()\n",
    "\n",
    "    for i in range(test_size):\n",
    "        seq = torch.FloatTensor(test_inputs[-look_back:])\n",
    "        with torch.no_grad():\n",
    "            model.hidden = (torch.zeros(1, 1, model.hidden_size),\n",
    "                            torch.zeros(1, 1, model.hidden_size))\n",
    "            test_inputs.append(model(seq.unsqueeze(1)).item())\n",
    "    return test_inputs\n",
    "test_inputs = predict(model, test_inputs, look_back)"
   ]
  },
  {
   "cell_type": "code",
   "execution_count": 263,
   "metadata": {},
   "outputs": [],
   "source": [
    "actual_predictions = scaler.inverse_transform(np.array(test_inputs[look_back:] ).reshape(-1, 1))"
   ]
  },
  {
   "cell_type": "code",
   "execution_count": 264,
   "metadata": {},
   "outputs": [],
   "source": [
    "x = np.arange(144 - test_size, 144, 1)"
   ]
  },
  {
   "cell_type": "code",
   "execution_count": 265,
   "metadata": {},
   "outputs": [
    {
     "data": {
      "image/png": "[encoded data removed]",
      "text/plain": [
       "<Figure size 432x288 with 1 Axes>"
      ]
     },
     "metadata": {
      "needs_background": "light"
     },
     "output_type": "display_data"
    }
   ],
   "source": [
    "plt.title('Month vs Passenger')\n",
    "plt.ylabel('Total Passengers')\n",
    "plt.grid(True)\n",
    "plt.autoscale(axis='x', tight=True)\n",
    "plt.plot(data, \"r\")\n",
    "plt.plot(x, actual_predictions, \"b\")\n",
    "plt.show()"
   ]
  },
  {
   "cell_type": "markdown",
   "metadata": {},
   "source": [
    "в) Попробуйте обучить сеть с разными параметрами look_back, look_forward. Также попробуйте использовать различные hidden_size. Выведите предсказания на график (\\*). Сделайте вывод.  \n",
    "*Обратите внимание*: \"Классический\", однонаправленный LSTM имеет размерность выхода (seq_len, batch, hidden_size). Но иногда нужно \"изменить\" размерность выхода - для этого можно обучить Linear: hidden_size x need_size  \n",
    "\n",
    "г) Сравните свой результат и результат с использованием nn.LSTM (на аналогичном числе эпох, hidden_size и т.п.)  \n",
    "\n",
    "д) Попробуйте использовать nn.GRU. Сравните результаты"
   ]
  },
  {
   "cell_type": "markdown",
   "metadata": {},
   "source": [
    "## TORCH LSTM"
   ]
  },
  {
   "cell_type": "code",
   "execution_count": 266,
   "metadata": {},
   "outputs": [],
   "source": [
    "class LSTM(nn.Module):\n",
    "    def __init__(self, input_size=1, hidden_size=100, output_size=1):\n",
    "        super().__init__()\n",
    "        self.hidden_size = hidden_size\n",
    "\n",
    "        self.lstm = nn.LSTM(input_size, hidden_size)\n",
    "\n",
    "        self.linear = nn.Linear(hidden_size, output_size)\n",
    "\n",
    "        self.hidden_cell = (torch.zeros(1,1,self.hidden_size),\n",
    "                            torch.zeros(1,1,self.hidden_size))\n",
    "\n",
    "    def forward(self, input_seq):\n",
    "        lstm_out, self.hidden_cell = self.lstm(input_seq.view(len(input_seq) ,1, -1), self.hidden_cell)\n",
    "        predictions = self.linear(lstm_out.view(len(input_seq), -1))\n",
    "        return predictions[-1]"
   ]
  },
  {
   "cell_type": "code",
   "execution_count": 270,
   "metadata": {},
   "outputs": [],
   "source": [
    "# Пример подготовленных данных\n",
    "look_back = 12\n",
    "look_forward = 1\n",
    "train_tensor = torch.FloatTensor(train).view(-1)\n",
    "train_data = create_dataset(train_tensor, look_back=look_back, look_forward=look_forward)"
   ]
  },
  {
   "cell_type": "code",
   "execution_count": 271,
   "metadata": {},
   "outputs": [],
   "source": [
    "model_TORCH = LSTM(1, 100, 1)"
   ]
  },
  {
   "cell_type": "code",
   "execution_count": 272,
   "metadata": {},
   "outputs": [
    {
     "name": "stderr",
     "output_type": "stream",
     "text": [
      "  1%|▏         | 2/150 [00:00<00:52,  2.79it/s]"
     ]
    },
    {
     "name": "stdout",
     "output_type": "stream",
     "text": [
      "epoch:   1 loss: 0.01314204\n"
     ]
    },
    {
     "name": "stderr",
     "output_type": "stream",
     "text": [
      " 19%|█▊        | 28/150 [00:08<00:24,  4.90it/s]"
     ]
    },
    {
     "name": "stdout",
     "output_type": "stream",
     "text": [
      "epoch:  26 loss: 0.00169253\n"
     ]
    },
    {
     "name": "stderr",
     "output_type": "stream",
     "text": [
      " 35%|███▍      | 52/150 [00:13<00:19,  4.98it/s]"
     ]
    },
    {
     "name": "stdout",
     "output_type": "stream",
     "text": [
      "epoch:  51 loss: 0.00654495\n"
     ]
    },
    {
     "name": "stderr",
     "output_type": "stream",
     "text": [
      " 51%|█████▏    | 77/150 [00:18<00:14,  4.99it/s]"
     ]
    },
    {
     "name": "stdout",
     "output_type": "stream",
     "text": [
      "epoch:  76 loss: 0.00149131\n"
     ]
    },
    {
     "name": "stderr",
     "output_type": "stream",
     "text": [
      " 69%|██████▊   | 103/150 [00:23<00:09,  5.03it/s]"
     ]
    },
    {
     "name": "stdout",
     "output_type": "stream",
     "text": [
      "epoch: 101 loss: 0.00043025\n"
     ]
    },
    {
     "name": "stderr",
     "output_type": "stream",
     "text": [
      " 85%|████████▌ | 128/150 [00:28<00:04,  5.00it/s]"
     ]
    },
    {
     "name": "stdout",
     "output_type": "stream",
     "text": [
      "epoch: 126 loss: 0.00069892\n"
     ]
    },
    {
     "name": "stderr",
     "output_type": "stream",
     "text": [
      "100%|██████████| 150/150 [00:32<00:00,  4.56it/s]\n",
      "  0%|          | 0/150 [00:00<?, ?it/s]"
     ]
    },
    {
     "name": "stdout",
     "output_type": "stream",
     "text": [
      "epoch: 149 loss: 0.0007591509\n"
     ]
    },
    {
     "name": "stderr",
     "output_type": "stream",
     "text": [
      "  1%|▏         | 2/150 [00:00<00:33,  4.38it/s]"
     ]
    },
    {
     "name": "stdout",
     "output_type": "stream",
     "text": [
      "epoch:   1 loss: 0.00200065\n"
     ]
    },
    {
     "name": "stderr",
     "output_type": "stream",
     "text": [
      " 18%|█▊        | 27/150 [00:08<00:42,  2.88it/s]"
     ]
    },
    {
     "name": "stdout",
     "output_type": "stream",
     "text": [
      "epoch:  26 loss: 0.00007830\n"
     ]
    },
    {
     "name": "stderr",
     "output_type": "stream",
     "text": [
      " 35%|███▍      | 52/150 [00:19<00:58,  1.68it/s]"
     ]
    },
    {
     "name": "stdout",
     "output_type": "stream",
     "text": [
      "epoch:  51 loss: 0.00003491\n"
     ]
    },
    {
     "name": "stderr",
     "output_type": "stream",
     "text": [
      " 51%|█████▏    | 77/150 [00:29<00:28,  2.60it/s]"
     ]
    },
    {
     "name": "stdout",
     "output_type": "stream",
     "text": [
      "epoch:  76 loss: 0.00002022\n"
     ]
    },
    {
     "name": "stderr",
     "output_type": "stream",
     "text": [
      " 69%|██████▊   | 103/150 [00:38<00:14,  3.31it/s]"
     ]
    },
    {
     "name": "stdout",
     "output_type": "stream",
     "text": [
      "epoch: 101 loss: 0.00000989\n"
     ]
    },
    {
     "name": "stderr",
     "output_type": "stream",
     "text": [
      " 85%|████████▌ | 128/150 [00:45<00:05,  3.75it/s]"
     ]
    },
    {
     "name": "stdout",
     "output_type": "stream",
     "text": [
      "epoch: 126 loss: 0.00000181\n"
     ]
    },
    {
     "name": "stderr",
     "output_type": "stream",
     "text": [
      "100%|██████████| 150/150 [00:50<00:00,  2.99it/s]\n",
      "  0%|          | 0/150 [00:00<?, ?it/s]"
     ]
    },
    {
     "name": "stdout",
     "output_type": "stream",
     "text": [
      "epoch: 149 loss: 0.0000004327\n"
     ]
    },
    {
     "name": "stderr",
     "output_type": "stream",
     "text": [
      "  1%|▏         | 2/150 [00:00<00:29,  4.96it/s]"
     ]
    },
    {
     "name": "stdout",
     "output_type": "stream",
     "text": [
      "epoch:   1 loss: 0.00000099\n"
     ]
    },
    {
     "name": "stderr",
     "output_type": "stream",
     "text": [
      " 18%|█▊        | 27/150 [00:07<00:26,  4.73it/s]"
     ]
    },
    {
     "name": "stdout",
     "output_type": "stream",
     "text": [
      "epoch:  26 loss: 0.00000481\n"
     ]
    },
    {
     "name": "stderr",
     "output_type": "stream",
     "text": [
      " 35%|███▍      | 52/150 [00:14<00:35,  2.76it/s]"
     ]
    },
    {
     "name": "stdout",
     "output_type": "stream",
     "text": [
      "epoch:  51 loss: 0.00000360\n"
     ]
    },
    {
     "name": "stderr",
     "output_type": "stream",
     "text": [
      " 51%|█████▏    | 77/150 [00:24<00:20,  3.55it/s]"
     ]
    },
    {
     "name": "stdout",
     "output_type": "stream",
     "text": [
      "epoch:  76 loss: 0.00000209\n"
     ]
    },
    {
     "name": "stderr",
     "output_type": "stream",
     "text": [
      " 68%|██████▊   | 102/150 [00:30<00:15,  3.06it/s]"
     ]
    },
    {
     "name": "stdout",
     "output_type": "stream",
     "text": [
      "epoch: 101 loss: 0.00000091\n"
     ]
    },
    {
     "name": "stderr",
     "output_type": "stream",
     "text": [
      " 85%|████████▍ | 127/150 [00:40<00:08,  2.77it/s]"
     ]
    },
    {
     "name": "stdout",
     "output_type": "stream",
     "text": [
      "epoch: 126 loss: 0.00000021\n"
     ]
    },
    {
     "name": "stderr",
     "output_type": "stream",
     "text": [
      "100%|██████████| 150/150 [00:48<00:00,  3.06it/s]"
     ]
    },
    {
     "name": "stdout",
     "output_type": "stream",
     "text": [
      "epoch: 149 loss: 0.0000000000\n"
     ]
    },
    {
     "name": "stderr",
     "output_type": "stream",
     "text": [
      "\n"
     ]
    }
   ],
   "source": [
    "all_losses = []\n",
    "learning_rate = 0.001\n",
    "for i in range(3):\n",
    "    model, all_losses = TrainModel(model_TORCH, train_data, all_losses, max_epochs=150, learning_rate = learning_rate)\n",
    "    learning_rate /= 10"
   ]
  },
  {
   "cell_type": "code",
   "execution_count": 273,
   "metadata": {},
   "outputs": [
    {
     "data": {
      "image/png": "[encoded data removed]",
      "text/plain": [
       "<Figure size 432x288 with 1 Axes>"
      ]
     },
     "metadata": {
      "needs_background": "light"
     },
     "output_type": "display_data"
    }
   ],
   "source": [
    "plt.plot(all_losses)\n",
    "plt.title(\"train_loss\")\n",
    "plt.xlabel(\"iteration\")\n",
    "plt.ylabel(\"loss value\")\n",
    "plt.show()"
   ]
  },
  {
   "cell_type": "code",
   "execution_count": 274,
   "metadata": {},
   "outputs": [],
   "source": [
    "look_back = train_tensor.size(0)\n",
    "test_inputs = train_tensor[-look_back:].tolist()"
   ]
  },
  {
   "cell_type": "code",
   "execution_count": 275,
   "metadata": {},
   "outputs": [],
   "source": [
    "test_inputs = predict(model, test_inputs, look_back)"
   ]
  },
  {
   "cell_type": "code",
   "execution_count": 276,
   "metadata": {},
   "outputs": [],
   "source": [
    "actual_predictions = scaler.inverse_transform(np.array(test_inputs[look_back:] ).reshape(-1, 1))"
   ]
  },
  {
   "cell_type": "code",
   "execution_count": 277,
   "metadata": {},
   "outputs": [],
   "source": [
    "x = np.arange(144 - test_size, 144, 1)"
   ]
  },
  {
   "cell_type": "code",
   "execution_count": 278,
   "metadata": {},
   "outputs": [
    {
     "data": {
      "image/png": "[encoded data removed]",
      "text/plain": [
       "<Figure size 432x288 with 1 Axes>"
      ]
     },
     "metadata": {
      "needs_background": "light"
     },
     "output_type": "display_data"
    }
   ],
   "source": [
    "plt.title('Month vs Passenger')\n",
    "plt.ylabel('Total Passengers')\n",
    "plt.grid(True)\n",
    "plt.autoscale(axis='x', tight=True)\n",
    "plt.plot(data, \"r\")\n",
    "plt.plot(x, actual_predictions, \"b\")\n",
    "plt.show()"
   ]
  },
  {
   "cell_type": "markdown",
   "metadata": {},
   "source": [
    "## TORCH GRU"
   ]
  },
  {
   "cell_type": "code",
   "execution_count": 284,
   "metadata": {},
   "outputs": [],
   "source": [
    "class GRU(nn.Module):\n",
    "    def __init__(self, input_size=1, hidden_size=100, output_size=1):\n",
    "        super().__init__()\n",
    "        self.hidden_size = hidden_size\n",
    "\n",
    "        self.lstm = nn.GRU(input_size, hidden_size)\n",
    "\n",
    "        self.linear = nn.Linear(hidden_size, output_size)\n",
    "\n",
    "        self.hidden_cell = torch.zeros(1,1,self.hidden_size)\n",
    "                            \n",
    "    def forward(self, input_seq):\n",
    "        lstm_out, self.hidden_cell = self.lstm(input_seq.view(len(input_seq) ,1, -1), self.hidden_cell)\n",
    "        predictions = self.linear(lstm_out.view(len(input_seq), -1))\n",
    "        return predictions[-1]"
   ]
  },
  {
   "cell_type": "code",
   "execution_count": 285,
   "metadata": {},
   "outputs": [],
   "source": [
    "# Пример подготовленных данных\n",
    "look_back = 12\n",
    "look_forward = 1\n",
    "train_tensor = torch.FloatTensor(train).view(-1)\n",
    "train_data = create_dataset(train_tensor, look_back=look_back, look_forward=look_forward)"
   ]
  },
  {
   "cell_type": "code",
   "execution_count": 286,
   "metadata": {},
   "outputs": [],
   "source": [
    "GRU_TORCH = GRU(1, 100, 1)"
   ]
  },
  {
   "cell_type": "code",
   "execution_count": 289,
   "metadata": {},
   "outputs": [
    {
     "name": "stderr",
     "output_type": "stream",
     "text": [
      "  1%|▏         | 2/150 [00:00<00:56,  2.64it/s]"
     ]
    },
    {
     "name": "stdout",
     "output_type": "stream",
     "text": [
      "epoch:   1 loss: 0.00879483\n"
     ]
    },
    {
     "name": "stderr",
     "output_type": "stream",
     "text": [
      " 18%|█▊        | 27/150 [00:09<00:45,  2.73it/s]"
     ]
    },
    {
     "name": "stdout",
     "output_type": "stream",
     "text": [
      "epoch:  26 loss: 0.00174132\n"
     ]
    },
    {
     "name": "stderr",
     "output_type": "stream",
     "text": [
      " 35%|███▍      | 52/150 [00:19<00:36,  2.72it/s]"
     ]
    },
    {
     "name": "stdout",
     "output_type": "stream",
     "text": [
      "epoch:  51 loss: 0.00539426\n"
     ]
    },
    {
     "name": "stderr",
     "output_type": "stream",
     "text": [
      " 51%|█████▏    | 77/150 [00:28<00:27,  2.66it/s]"
     ]
    },
    {
     "name": "stdout",
     "output_type": "stream",
     "text": [
      "epoch:  76 loss: 0.00307386\n"
     ]
    },
    {
     "name": "stderr",
     "output_type": "stream",
     "text": [
      " 68%|██████▊   | 102/150 [00:37<00:18,  2.63it/s]"
     ]
    },
    {
     "name": "stdout",
     "output_type": "stream",
     "text": [
      "epoch: 101 loss: 0.00000027\n"
     ]
    },
    {
     "name": "stderr",
     "output_type": "stream",
     "text": [
      " 85%|████████▍ | 127/150 [00:47<00:08,  2.68it/s]"
     ]
    },
    {
     "name": "stdout",
     "output_type": "stream",
     "text": [
      "epoch: 126 loss: 0.00068151\n"
     ]
    },
    {
     "name": "stderr",
     "output_type": "stream",
     "text": [
      "100%|██████████| 150/150 [00:56<00:00,  2.68it/s]\n",
      "  0%|          | 0/150 [00:00<?, ?it/s]"
     ]
    },
    {
     "name": "stdout",
     "output_type": "stream",
     "text": [
      "epoch: 149 loss: 0.0000152667\n"
     ]
    },
    {
     "name": "stderr",
     "output_type": "stream",
     "text": [
      "  1%|▏         | 2/150 [00:00<00:56,  2.62it/s]"
     ]
    },
    {
     "name": "stdout",
     "output_type": "stream",
     "text": [
      "epoch:   1 loss: 0.00100560\n"
     ]
    },
    {
     "name": "stderr",
     "output_type": "stream",
     "text": [
      " 18%|█▊        | 27/150 [00:10<00:47,  2.61it/s]"
     ]
    },
    {
     "name": "stdout",
     "output_type": "stream",
     "text": [
      "epoch:  26 loss: 0.00002859\n"
     ]
    },
    {
     "name": "stderr",
     "output_type": "stream",
     "text": [
      " 35%|███▍      | 52/150 [00:19<00:36,  2.69it/s]"
     ]
    },
    {
     "name": "stdout",
     "output_type": "stream",
     "text": [
      "epoch:  51 loss: 0.00001524\n"
     ]
    },
    {
     "name": "stderr",
     "output_type": "stream",
     "text": [
      " 51%|█████▏    | 77/150 [00:28<00:26,  2.73it/s]"
     ]
    },
    {
     "name": "stdout",
     "output_type": "stream",
     "text": [
      "epoch:  76 loss: 0.00001654\n"
     ]
    },
    {
     "name": "stderr",
     "output_type": "stream",
     "text": [
      " 68%|██████▊   | 102/150 [00:38<00:17,  2.69it/s]"
     ]
    },
    {
     "name": "stdout",
     "output_type": "stream",
     "text": [
      "epoch: 101 loss: 0.00003292\n"
     ]
    },
    {
     "name": "stderr",
     "output_type": "stream",
     "text": [
      " 85%|████████▍ | 127/150 [00:47<00:08,  2.64it/s]"
     ]
    },
    {
     "name": "stdout",
     "output_type": "stream",
     "text": [
      "epoch: 126 loss: 0.00004523\n"
     ]
    },
    {
     "name": "stderr",
     "output_type": "stream",
     "text": [
      "100%|██████████| 150/150 [00:54<00:00,  2.73it/s]\n",
      "  0%|          | 0/150 [00:00<?, ?it/s]"
     ]
    },
    {
     "name": "stdout",
     "output_type": "stream",
     "text": [
      "epoch: 149 loss: 0.0000346063\n"
     ]
    },
    {
     "name": "stderr",
     "output_type": "stream",
     "text": [
      "  1%|▏         | 2/150 [00:00<00:58,  2.55it/s]"
     ]
    },
    {
     "name": "stdout",
     "output_type": "stream",
     "text": [
      "epoch:   1 loss: 0.00001432\n"
     ]
    },
    {
     "name": "stderr",
     "output_type": "stream",
     "text": [
      " 18%|█▊        | 27/150 [00:09<00:44,  2.75it/s]"
     ]
    },
    {
     "name": "stdout",
     "output_type": "stream",
     "text": [
      "epoch:  26 loss: 0.00000993\n"
     ]
    },
    {
     "name": "stderr",
     "output_type": "stream",
     "text": [
      " 35%|███▍      | 52/150 [00:18<00:36,  2.69it/s]"
     ]
    },
    {
     "name": "stdout",
     "output_type": "stream",
     "text": [
      "epoch:  51 loss: 0.00001185\n"
     ]
    },
    {
     "name": "stderr",
     "output_type": "stream",
     "text": [
      " 51%|█████▏    | 77/150 [00:28<00:28,  2.60it/s]"
     ]
    },
    {
     "name": "stdout",
     "output_type": "stream",
     "text": [
      "epoch:  76 loss: 0.00001256\n"
     ]
    },
    {
     "name": "stderr",
     "output_type": "stream",
     "text": [
      " 68%|██████▊   | 102/150 [00:37<00:18,  2.66it/s]"
     ]
    },
    {
     "name": "stdout",
     "output_type": "stream",
     "text": [
      "epoch: 101 loss: 0.00001273\n"
     ]
    },
    {
     "name": "stderr",
     "output_type": "stream",
     "text": [
      " 85%|████████▍ | 127/150 [00:43<00:04,  4.61it/s]"
     ]
    },
    {
     "name": "stdout",
     "output_type": "stream",
     "text": [
      "epoch: 126 loss: 0.00001258\n"
     ]
    },
    {
     "name": "stderr",
     "output_type": "stream",
     "text": [
      "100%|██████████| 150/150 [00:48<00:00,  3.07it/s]"
     ]
    },
    {
     "name": "stdout",
     "output_type": "stream",
     "text": [
      "epoch: 149 loss: 0.0000122714\n"
     ]
    },
    {
     "name": "stderr",
     "output_type": "stream",
     "text": [
      "\n"
     ]
    }
   ],
   "source": [
    "def TrainModel_GRU(model, train_data, all_losses, max_epochs=100, learning_rate = 0.001):\n",
    "    loss_function = nn.MSELoss()\n",
    "    optimizer = torch.optim.Adam(model.parameters(), lr=learning_rate)\n",
    "    for i in tqdm(range(max_epochs)):\n",
    "        for seq, labels in train_data:\n",
    "            optimizer.zero_grad()\n",
    "            model.hidden_cell = torch.zeros(1, 1, model.hidden_size)\n",
    "            if look_forward != 1:\n",
    "                y_pred = model(seq.unsqueeze(1), look_forward = look_forward)\n",
    "            else:\n",
    "                y_pred = model(seq.unsqueeze(1))\n",
    "            single_loss = loss_function(y_pred, labels)\n",
    "            all_losses.append(single_loss.item())\n",
    "            single_loss.backward()\n",
    "            optimizer.step()\n",
    "\n",
    "        if i % 25 == 1:\n",
    "            print(f'epoch: {i:3} loss: {single_loss.item():10.8f}')\n",
    "\n",
    "    print(f'epoch: {i:3} loss: {single_loss.item():10.10f}')\n",
    "    return model, all_losses\n",
    "all_losses = []\n",
    "learning_rate = 0.001\n",
    "for i in range(3):\n",
    "    model, all_losses = TrainModel_GRU(GRU_TORCH, train_data, all_losses, max_epochs=150, learning_rate = learning_rate)\n",
    "    learning_rate /= 10"
   ]
  },
  {
   "cell_type": "code",
   "execution_count": 290,
   "metadata": {},
   "outputs": [
    {
     "data": {
      "image/png": "[encoded data removed]",
      "text/plain": [
       "<Figure size 432x288 with 1 Axes>"
      ]
     },
     "metadata": {
      "needs_background": "light"
     },
     "output_type": "display_data"
    }
   ],
   "source": [
    "plt.plot(all_losses)\n",
    "plt.title(\"train_loss\")\n",
    "plt.xlabel(\"iteration\")\n",
    "plt.ylabel(\"loss value\")\n",
    "plt.show()"
   ]
  },
  {
   "cell_type": "code",
   "execution_count": 291,
   "metadata": {},
   "outputs": [],
   "source": [
    "look_back = train_tensor.size(0)\n",
    "test_inputs = train_tensor[-look_back:].tolist()"
   ]
  },
  {
   "cell_type": "code",
   "execution_count": 292,
   "metadata": {},
   "outputs": [],
   "source": [
    "test_inputs = predict(model, test_inputs, look_back)"
   ]
  },
  {
   "cell_type": "code",
   "execution_count": 293,
   "metadata": {},
   "outputs": [],
   "source": [
    "actual_predictions = scaler.inverse_transform(np.array(test_inputs[look_back:] ).reshape(-1, 1))"
   ]
  },
  {
   "cell_type": "code",
   "execution_count": 294,
   "metadata": {},
   "outputs": [],
   "source": [
    "x = np.arange(144 - test_size, 144, 1)"
   ]
  },
  {
   "cell_type": "code",
   "execution_count": 295,
   "metadata": {},
   "outputs": [
    {
     "data": {
      "image/png": "[encoded data removed]",
      "text/plain": [
       "<Figure size 432x288 with 1 Axes>"
      ]
     },
     "metadata": {
      "needs_background": "light"
     },
     "output_type": "display_data"
    }
   ],
   "source": [
    "plt.title('Month vs Passenger')\n",
    "plt.ylabel('Total Passengers')\n",
    "plt.grid(True)\n",
    "plt.autoscale(axis='x', tight=True)\n",
    "plt.plot(data, \"r\")\n",
    "plt.plot(x, actual_predictions, \"b\")\n",
    "plt.show()"
   ]
  },
  {
   "cell_type": "markdown",
   "metadata": {},
   "source": [
    "### Часть 2. RNN и обработка текстов"
   ]
  },
  {
   "cell_type": "markdown",
   "metadata": {},
   "source": [
    "В этом задании мы будем использовать файл author-quote.txt"
   ]
  },
  {
   "cell_type": "code",
   "execution_count": 3,
   "metadata": {},
   "outputs": [
    {
     "data": {
      "text/plain": [
       "<torch._C.Generator at 0x7fd6eab23710>"
      ]
     },
     "execution_count": 3,
     "metadata": {},
     "output_type": "execute_result"
    }
   ],
   "source": [
    "np.random.seed(777)\n",
    "torch.random.manual_seed(777)"
   ]
  },
  {
   "cell_type": "code",
   "execution_count": 4,
   "metadata": {},
   "outputs": [
    {
     "data": {
      "text/plain": [
       "'If you live to be a hundred, I want to live to be a hundred minus one day so I never have to live without you.'"
      ]
     },
     "execution_count": 4,
     "metadata": {},
     "output_type": "execute_result"
    }
   ],
   "source": [
    "lines = [x.split('\\t')[1].strip() for x in open('author-quote.txt').readlines()]\n",
    "lines[0]"
   ]
  },
  {
   "cell_type": "code",
   "execution_count": 5,
   "metadata": {},
   "outputs": [
    {
     "data": {
      "image/png": "[encoded data removed]",
      "text/plain": [
       "<Figure size 432x288 with 1 Axes>"
      ]
     },
     "metadata": {
      "needs_background": "light"
     },
     "output_type": "display_data"
    }
   ],
   "source": [
    "lines_len = []\n",
    "for l in map(len, lines):\n",
    "    lines_len.append(l)\n",
    "\n",
    "plt.hist(lines_len, bins=100);"
   ]
  },
  {
   "cell_type": "code",
   "execution_count": 6,
   "metadata": {},
   "outputs": [
    {
     "name": "stdout",
     "output_type": "stream",
     "text": [
      "3621 2534 1087\n"
     ]
    }
   ],
   "source": [
    "lines = [l for l in filter(lambda x: len(x) <= 50, lines)]\n",
    "train_lines = lines[:int(0.7 * len(lines))]\n",
    "test_lines = lines[int(0.7 * len(lines)):]\n",
    "print(len(lines), len(train_lines), len(test_lines))"
   ]
  },
  {
   "cell_type": "code",
   "execution_count": 7,
   "metadata": {},
   "outputs": [
    {
     "name": "stdout",
     "output_type": "stream",
     "text": [
      "{'t': 0, 'B': 1, 'z': 2, 'P': 3, '0': 4, 'Z': 5, '$': 6, 'L': 7, 'p': 8, 'f': 9, '6': 10, 'q': 11, '!': 12, ',': 13, '3': 14, 'v': 15, 'c': 16, 'N': 17, 'Y': 18, 'I': 19, 'o': 20, 'k': 21, 'a': 22, 'X': 23, '2': 24, 'O': 25, 'n': 26, 'K': 27, 'Q': 28, ' ': 29, '9': 30, 'l': 31, '7': 32, '-': 33, 'D': 34, 'V': 35, '8': 36, 's': 37, \"'\": 38, 'R': 39, 'F': 40, 'G': 41, 'C': 42, '.': 43, 'r': 44, 'H': 45, 'x': 46, 'h': 47, 'S': 48, 'b': 49, 'T': 50, 'u': 51, 'U': 52, '4': 53, 'y': 54, ':': 55, 'g': 56, 'J': 57, 'm': 58, 'w': 59, ';': 60, '1': 61, '?': 62, 'j': 63, 'A': 64, 'W': 65, 'e': 66, 'd': 67, '5': 68, 'M': 69, '&': 70, 'i': 71, 'E': 72, '<eos>': 73, '<go>': 74}\n"
     ]
    }
   ],
   "source": [
    "class Vocabulary:\n",
    "    def __init__(self, sentences):\n",
    "        all_characters = set()\n",
    "        for line in sentences:\n",
    "            all_characters = set.union(set(line), all_characters)\n",
    "        all_characters = list(all_characters)+['<eos>', '<go>']\n",
    "        self.char_to_id = {x[1]:x[0] for x in enumerate(all_characters)}\n",
    "        self.id_to_char = {x[0]:x[1] for x in enumerate(all_characters)}\n",
    "        self.size = len(all_characters)\n",
    "\n",
    "    def encode(self, line):\n",
    "        return np.array([self.char_to_id[x] for x in line])\n",
    "    \n",
    "    def decode(self, tokens):\n",
    "        return ''.join([self.id_to_char[x] for x in tokens])\n",
    "    \n",
    "vocab = Vocabulary(lines)\n",
    "print(vocab.char_to_id)"
   ]
  },
  {
   "cell_type": "code",
   "execution_count": 49,
   "metadata": {},
   "outputs": [],
   "source": [
    "# <go>, <eos> - специальные токены начала и конца последовательности, нужны для работы предсказаний\n",
    "class Quotes(Dataset):\n",
    "    def __init__(self, sentences, vocab):\n",
    "        # Construct vocabulary + EOS & GO tokens\n",
    "        self.sentences = sentences\n",
    "        self.vocab = vocab\n",
    "        self.go = self.vocab.char_to_id['<go>']\n",
    "        self.eos = self.vocab.char_to_id['<eos>']\n",
    "        \n",
    "    def __len__(self):\n",
    "        return len(self.sentences)\n",
    "        \n",
    "    def __getitem__(self, idx):\n",
    "        tokens = self.vocab.encode(self.sentences[idx])\n",
    "        _input = np.hstack((np.array([self.go]), np.array(tokens)))\n",
    "        _output = np.hstack((np.array(tokens), np.array([self.eos])))\n",
    "        return _input, _output"
   ]
  },
  {
   "cell_type": "code",
   "execution_count": 50,
   "metadata": {},
   "outputs": [],
   "source": [
    "# Для работы pack_padded_sequence\n",
    "def compose_batch(batch):\n",
    "#     print(batch[0][0])\n",
    "    order = np.argsort([-len(x[0]) for x in batch])\n",
    "    lengths = np.array([len(x[0]) for x in batch])\n",
    "    go = torch.zeros(len(batch), lengths[order[0]]).long()\n",
    "    eos = torch.zeros(len(batch), lengths[order[0]]).long()\n",
    "    mask = torch.zeros(len(batch), lengths[order[0]]).long()\n",
    "    for i in range(len(batch)):\n",
    "        current_go, current_eos = batch[i]\n",
    "        go[i, :len(current_go)] = torch.tensor(current_go)\n",
    "        eos[i, :len(current_eos)] = torch.tensor(current_eos)\n",
    "        mask[i, :len(current_go)] = 1\n",
    "    mask = mask[order]\n",
    "    go = go[order]\n",
    "    eos = eos[order]\n",
    "    lengths = lengths[order]\n",
    "    return go, eos, mask, lengths"
   ]
  },
  {
   "cell_type": "code",
   "execution_count": 51,
   "metadata": {},
   "outputs": [],
   "source": [
    "train = Quotes(train_lines, vocab)\n",
    "test = Quotes(test_lines, vocab)\n",
    "train_loader = DataLoader(train, shuffle=True, batch_size=64, collate_fn=compose_batch)\n",
    "test_loader = DataLoader(test, shuffle=False, batch_size=64, collate_fn=compose_batch)"
   ]
  },
  {
   "cell_type": "markdown",
   "metadata": {},
   "source": [
    "а) Напишите код класса Oracle"
   ]
  },
  {
   "cell_type": "code",
   "execution_count": 163,
   "metadata": {},
   "outputs": [],
   "source": [
    "class Oracle(nn.Module):\n",
    "    def __init__(self, vocabulary_size, embedding_size=128, hidden_size=256, layers=2):\n",
    "        super(Oracle, self).__init__()\n",
    "        self.embedding_size = embedding_size\n",
    "        self.layers = layers\n",
    "        self.hidden_size = hidden_size\n",
    "        self.embedding = nn.Embedding(vocabulary_size, embedding_size)\n",
    "        self.generator = nn.GRU(embedding_size, hidden_size, layers, batch_first=False)\n",
    "        self.classifier = nn.Linear(hidden_size, vocabulary_size)\n",
    "        self.softmax = nn.Softmax(dim=2)\n",
    "    # 1) Генерируем эмбединги входных токенов (из _input), пакуем в pack_padded_sequence, используя lengths\n",
    "    # 2) Запускаем generator на эмбедингах, пакуем его вывод в pad_packed_sequence\n",
    "    # 3) Возвращаем предикты (пока без SoftMax) через self.classifier\n",
    "    def forward(self, _input, lengths):\n",
    "        embedding = self.embedding(_input)\n",
    "        packed = pack_padded_sequence(embedding, lengths, batch_first=True)\n",
    "        output, hidden = self.generator(packed)\n",
    "        output, lengths = pad_packed_sequence(output, batch_first=True)\n",
    "        logits = self.classifier(output)\n",
    "        return logits\n",
    "\n",
    "    # Генерирует последовательность (когда уже обучен). Токены переводим в id с помощью vocab.char_to_id,\n",
    "    # обратно - с помощью vocab.id_to_char\n",
    "    # Первый токен - <go>, делаем embeding. Далее generator -- classifier -- softmax.\n",
    "    # Слово сэмплируем с помощью torch.distributions.Categorical, оно становится новым токеном\n",
    "    # Повторяем, пока не будет <eos> или не достигнем max_len\n",
    "    # Возвращаем - сгенерированную строку\n",
    "\n",
    "\n",
    "    def generate(self, vocab, max_len=100, char=\"<go>\", temperature=1):\n",
    "        with torch.no_grad():\n",
    "            \n",
    "            hidden = torch.zeros(self.layers, 1, self.hidden_size)\n",
    "\n",
    "            generated_text = \"\"\n",
    "\n",
    "            for _ in range(max_len):\n",
    "\n",
    "                input_token = vocab.char_to_id[char]\n",
    "                input_token = torch.tensor([[input_token]])\n",
    "                \n",
    "                embedding = self.embedding(input_token)\n",
    "                output, hidden = self.generator(embedding, hidden)\n",
    "                logits = self.classifier(output)\n",
    "\n",
    "                prediction = self.softmax(logits/temperature)\n",
    "                char_idx = torch.distributions.Categorical(prediction).sample().item()\n",
    "                char = vocab.id_to_char[char_idx]\n",
    "\n",
    "                if char == \"<eos>\":\n",
    "                    break\n",
    "\n",
    "                generated_text += char\n",
    "            return generated_text\n",
    "            \n",
    "        "
   ]
  },
  {
   "cell_type": "markdown",
   "metadata": {},
   "source": [
    "б) Обучите модель. Приведите примеры сгенеррованных предложений"
   ]
  },
  {
   "cell_type": "code",
   "execution_count": 173,
   "metadata": {},
   "outputs": [],
   "source": [
    "oracle = Oracle(vocab.size, embedding_size=32, hidden_size=64, layers=2)"
   ]
  },
  {
   "cell_type": "code",
   "execution_count": 174,
   "metadata": {},
   "outputs": [],
   "source": [
    "criterion = nn.CrossEntropyLoss(reduction='none')\n",
    "learning_rate = 0.001\n",
    "optimizer = torch.optim.Adam(oracle.parameters(), lr=learning_rate)\n",
    "losses = []"
   ]
  },
  {
   "cell_type": "code",
   "execution_count": 175,
   "metadata": {},
   "outputs": [],
   "source": [
    "# Чтобы снизить колебания\n",
    "def moving_average(a, n=20) :\n",
    "    ret = np.cumsum(a, dtype=float)\n",
    "    ret[n:] = ret[n:] - ret[:-n]\n",
    "    return ret[n - 1:] / n"
   ]
  },
  {
   "cell_type": "code",
   "execution_count": 176,
   "metadata": {},
   "outputs": [],
   "source": [
    "from IPython.display import clear_output"
   ]
  },
  {
   "cell_type": "code",
   "execution_count": 177,
   "metadata": {},
   "outputs": [
    {
     "data": {
      "image/png": "[encoded data removed]",
      "text/plain": [
       "<Figure size 432x288 with 1 Axes>"
      ]
     },
     "metadata": {
      "needs_background": "light"
     },
     "output_type": "display_data"
    },
    {
     "name": "stderr",
     "output_type": "stream",
     "text": [
      "13it [00:01,  9.58it/s]"
     ]
    },
    {
     "name": "stdout",
     "output_type": "stream",
     "text": [
      "---- I love the brothing life in jokes.\n"
     ]
    },
    {
     "name": "stderr",
     "output_type": "stream",
     "text": [
      "23it [00:02, 11.49it/s]"
     ]
    },
    {
     "name": "stdout",
     "output_type": "stream",
     "text": [
      "---- Admility of a hationalys.\n"
     ]
    },
    {
     "name": "stderr",
     "output_type": "stream",
     "text": [
      "33it [00:02, 11.85it/s]"
     ]
    },
    {
     "name": "stdout",
     "output_type": "stream",
     "text": [
      "---- Being had enemy of really as fewing.\n"
     ]
    },
    {
     "name": "stderr",
     "output_type": "stream",
     "text": [
      "40it [00:03, 11.52it/s]\n"
     ]
    },
    {
     "name": "stdout",
     "output_type": "stream",
     "text": [
      "---- I was an on to.very no light.\n"
     ]
    },
    {
     "data": {
      "image/png": "[encoded data removed]",
      "text/plain": [
       "<Figure size 432x288 with 1 Axes>"
      ]
     },
     "metadata": {
      "needs_background": "light"
     },
     "output_type": "display_data"
    },
    {
     "name": "stdout",
     "output_type": "stream",
     "text": [
      "---- Love is always just waite the tolle.\n"
     ]
    }
   ],
   "source": [
    "import progressbar\n",
    "import tqdm\n",
    "def train_generator(oracle_LSTM, criterion, optimizer, train_loader, test_loader):\n",
    "    for epoch in range(200):\n",
    "\n",
    "        bar = progressbar.ProgressBar()\n",
    "        oracle_LSTM.train()\n",
    "        for i, (go, eos, mask, length) in tqdm.tqdm(enumerate(train_loader)):\n",
    "            optimizer.zero_grad()\n",
    "            prediction = oracle_LSTM(go, length).transpose(2, 1)\n",
    "            loss = (criterion(prediction, eos) * mask.float()).mean()\n",
    "            loss.backward()\n",
    "            [x.grad.clamp_(-1, 1) for x in oracle_LSTM.parameters()]\n",
    "            optimizer.step()\n",
    "            losses.append(np.exp(loss.item()))\n",
    "            if i % 10 == 0:\n",
    "                print(\"----\", oracle_LSTM.generate(vocab, max_len=100))\n",
    "            if i % 50 == 0:\n",
    "                clear_output(True)\n",
    "                plt.plot(losses, label='Train')\n",
    "                plt.plot(moving_average(losses), label='MA@20')\n",
    "                plt.xlabel('iteration')\n",
    "                plt.ylabel('perplexity')\n",
    "                plt.legend()\n",
    "                plt.grid()\n",
    "                plt.show()\n",
    "        oracle_LSTM.eval()\n",
    "        for i, (go, eos, mask, length) in enumerate(test_loader):\n",
    "            optimizer.zero_grad()\n",
    "            prediction = oracle_LSTM(go, length).transpose(2, 1)\n",
    "            loss = (criterion(prediction, eos) * mask.float()).mean()\n",
    "            losses.append(np.exp(loss.item()))\n",
    "            if i % 10 == 0:\n",
    "                print(\"----\", oracle_LSTM.generate(vocab, max_len=100))\n",
    "            if i % 20 == 0:\n",
    "                plt.plot(losses, \"b\", label='test')\n",
    "                plt.plot(moving_average(losses), \"r\", label='MA@20')\n",
    "                plt.xlabel('iteration')\n",
    "                plt.ylabel('perplexity')\n",
    "                plt.legend()\n",
    "                plt.grid()\n",
    "                plt.show()\n",
    "train_generator(oracle, criterion, optimizer, train_loader, test_loader)"
   ]
  },
  {
   "cell_type": "code",
   "execution_count": 1,
   "metadata": {},
   "outputs": [
    {
     "ename": "NameError",
     "evalue": "name 'oracle' is not defined",
     "output_type": "error",
     "traceback": [
      "\u001b[1;31m---------------------------------------------------------------------------\u001b[0m",
      "\u001b[1;31mNameError\u001b[0m                                 Traceback (most recent call last)",
      "\u001b[1;32m<ipython-input-1-92425d6eaec6>\u001b[0m in \u001b[0;36m<module>\u001b[1;34m\u001b[0m\n\u001b[0;32m      1\u001b[0m \u001b[1;32mfor\u001b[0m \u001b[0m_\u001b[0m \u001b[1;32min\u001b[0m \u001b[0mrange\u001b[0m\u001b[1;33m(\u001b[0m\u001b[1;36m100\u001b[0m\u001b[1;33m)\u001b[0m\u001b[1;33m:\u001b[0m\u001b[1;33m\u001b[0m\u001b[1;33m\u001b[0m\u001b[0m\n\u001b[1;32m----> 2\u001b[1;33m     \u001b[0msentence\u001b[0m \u001b[1;33m=\u001b[0m \u001b[0moracle\u001b[0m\u001b[1;33m.\u001b[0m\u001b[0mgenerate\u001b[0m\u001b[1;33m(\u001b[0m\u001b[0mvocab\u001b[0m\u001b[1;33m,\u001b[0m \u001b[0mmax_len\u001b[0m\u001b[1;33m=\u001b[0m\u001b[1;36m100\u001b[0m\u001b[1;33m,\u001b[0m \u001b[0mtemperature\u001b[0m\u001b[1;33m=\u001b[0m\u001b[1;36m0.7\u001b[0m\u001b[1;33m)\u001b[0m\u001b[1;33m\u001b[0m\u001b[1;33m\u001b[0m\u001b[0m\n\u001b[0m\u001b[0;32m      3\u001b[0m     \u001b[0mprint\u001b[0m\u001b[1;33m(\u001b[0m\u001b[0msentence\u001b[0m\u001b[1;33m)\u001b[0m\u001b[1;33m\u001b[0m\u001b[1;33m\u001b[0m\u001b[0m\n",
      "\u001b[1;31mNameError\u001b[0m: name 'oracle' is not defined"
     ]
    }
   ],
   "source": [
    "for _ in range(100)\n",
    "sentence = oracle.generate(vocab, max_len=100, temperature=0.7)\n",
    "print(sentence)"
   ]
  },
  {
   "cell_type": "markdown",
   "metadata": {},
   "source": [
    "в) Обучить сеть с LSTM вместо GRU\n",
    "\n",
    "г) Сделать разбиение train-test и нарисровать графики зависимости перплексии от числа эпох\n",
    "\n",
    "д) Подобрать гиперпараметры, добиться лучшей перплексии чем с параметрами по умолчанию"
   ]
  },
  {
   "cell_type": "markdown",
   "metadata": {},
   "source": [
    "### LSTM training"
   ]
  },
  {
   "cell_type": "code",
   "execution_count": 179,
   "metadata": {},
   "outputs": [],
   "source": [
    "class Oracle_LSTM(nn.Module):\n",
    "    def __init__(self, vocabulary_size, embedding_size=128, hidden_size=256, layers=2):\n",
    "        super(Oracle_LSTM, self).__init__()\n",
    "        self.embedding_size = embedding_size\n",
    "        self.layers = layers\n",
    "        self.hidden_size = hidden_size\n",
    "        self.embedding = nn.Embedding(vocabulary_size, embedding_size)\n",
    "        self.generator = nn.LSTM(embedding_size, hidden_size, layers, batch_first=False)\n",
    "        self.classifier = nn.Linear(hidden_size, vocabulary_size)\n",
    "        self.softmax = nn.Softmax(dim=2)\n",
    "    # 1) Генерируем эмбединги входных токенов (из _input), пакуем в pack_padded_sequence, используя lengths\n",
    "    # 2) Запускаем generator на эмбедингах, пакуем его вывод в pad_packed_sequence\n",
    "    # 3) Возвращаем предикты (пока без SoftMax) через self.classifier\n",
    "    def forward(self, _input, lengths):\n",
    "        embedding = self.embedding(_input)\n",
    "        packed = pack_padded_sequence(embedding, lengths, batch_first=True)\n",
    "        output, hidden = self.generator(packed)\n",
    "        output, lengths = pad_packed_sequence(output, batch_first=True)\n",
    "        logits = self.classifier(output)\n",
    "        return logits\n",
    "\n",
    "    # Генерирует последовательность (когда уже обучен). Токены переводим в id с помощью vocab.char_to_id,\n",
    "    # обратно - с помощью vocab.id_to_char\n",
    "    # Первый токен - <go>, делаем embeding. Далее generator -- classifier -- softmax.\n",
    "    # Слово сэмплируем с помощью torch.distributions.Categorical, оно становится новым токеном\n",
    "    # Повторяем, пока не будет <eos> или не достигнем max_len\n",
    "    # Возвращаем - сгенерированную строку\n",
    "\n",
    "\n",
    "    def generate(self, vocab, max_len=100, char=\"<go>\", temperature=1):\n",
    "        with torch.no_grad():\n",
    "            \n",
    "            hidden = (torch.zeros(self.layers, 1, self.hidden_size),\n",
    "                      torch.zeros(self.layers, 1, self.hidden_size))\n",
    "         \n",
    "            generated_text = \"\"\n",
    "\n",
    "            for _ in range(max_len):\n",
    "\n",
    "                input_token = vocab.char_to_id[char]\n",
    "                input_token = torch.tensor([[input_token]])\n",
    "                \n",
    "                embedding = self.embedding(input_token)\n",
    "                output, hidden = self.generator(embedding, hidden)\n",
    "                logits = self.classifier(output)\n",
    "\n",
    "                prediction = self.softmax(logits/temperature)\n",
    "                char_idx = torch.distributions.Categorical(prediction).sample().item()\n",
    "                char = vocab.id_to_char[char_idx]\n",
    "\n",
    "                if char == \"<eos>\":\n",
    "                    break\n",
    "\n",
    "                generated_text += char\n",
    "            return generated_text"
   ]
  },
  {
   "cell_type": "code",
   "execution_count": 180,
   "metadata": {},
   "outputs": [],
   "source": [
    "oracle_LSTM = Oracle_LSTM(vocab.size, embedding_size=32, hidden_size=64, layers=2)"
   ]
  },
  {
   "cell_type": "code",
   "execution_count": 181,
   "metadata": {},
   "outputs": [],
   "source": [
    "criterion_LSTM = nn.CrossEntropyLoss(reduction='none')\n",
    "learning_rate = 0.01\n",
    "optimizer_LSTM = torch.optim.Adam(oracle_LSTM.parameters(), lr=learning_rate)\n",
    "losses = []"
   ]
  },
  {
   "cell_type": "code",
   "execution_count": 182,
   "metadata": {},
   "outputs": [
    {
     "data": {
      "image/png": "[encoded data removed]",
      "text/plain": [
       "<Figure size 432x288 with 1 Axes>"
      ]
     },
     "metadata": {
      "needs_background": "light"
     },
     "output_type": "display_data"
    },
    {
     "name": "stderr",
     "output_type": "stream",
     "text": [
      "12it [00:01,  8.81it/s]"
     ]
    },
    {
     "name": "stdout",
     "output_type": "stream",
     "text": [
      "---- One was infered, like Enging of give accure.\n"
     ]
    },
    {
     "name": "stderr",
     "output_type": "stream",
     "text": [
      "22it [00:02,  8.36it/s]"
     ]
    },
    {
     "name": "stdout",
     "output_type": "stream",
     "text": [
      "---- I intent the consest never one started teller.\n"
     ]
    },
    {
     "name": "stderr",
     "output_type": "stream",
     "text": [
      "32it [00:03,  8.83it/s]"
     ]
    },
    {
     "name": "stdout",
     "output_type": "stream",
     "text": [
      "---- I think every match so secondering sick life.\n"
     ]
    },
    {
     "name": "stderr",
     "output_type": "stream",
     "text": [
      "40it [00:04,  8.80it/s]\n"
     ]
    },
    {
     "name": "stdout",
     "output_type": "stream",
     "text": [
      "---- Judges free prostory fories.\n"
     ]
    },
    {
     "data": {
      "image/png": "[encoded data removed]",
      "text/plain": [
       "<Figure size 432x288 with 1 Axes>"
      ]
     },
     "metadata": {
      "needs_background": "light"
     },
     "output_type": "display_data"
    },
    {
     "name": "stdout",
     "output_type": "stream",
     "text": [
      "---- There is no inten most vitued. I've most toceresting.\n"
     ]
    }
   ],
   "source": [
    "train_generator(oracle_LSTM, criterion_LSTM, optimizer_LSTM, train_loader, test_loader)"
   ]
  },
  {
   "cell_type": "code",
   "execution_count": 187,
   "metadata": {},
   "outputs": [
    {
     "data": {
      "image/png": "[encoded data removed]",
      "text/plain": [
       "<Figure size 432x288 with 1 Axes>"
      ]
     },
     "metadata": {
      "needs_background": "light"
     },
     "output_type": "display_data"
    }
   ],
   "source": [
    "over_epoch_loss = losses[::40]\n",
    "plt.plot(over_epoch_loss, \"b\", label='test')\n",
    "plt.plot(moving_average(over_epoch_loss), \"r\", label='MA@20')\n",
    "plt.xlabel('epoch')\n",
    "plt.ylabel('perplexity')\n",
    "plt.legend()\n",
    "plt.grid()\n",
    "plt.show()"
   ]
  },
  {
   "cell_type": "code",
   "execution_count": 188,
   "metadata": {},
   "outputs": [
    {
     "data": {
      "text/plain": [
       "[4.418124434918924,\n",
       " 2.4087643847028164,\n",
       " 2.502556926243546,\n",
       " 2.4271375759116176,\n",
       " 4.802861854047877,\n",
       " 2.31975048869879,\n",
       " 2.1550534591973167,\n",
       " 4.809537219233564,\n",
       " 2.4210522068656535,\n",
       " 2.3415862586261205]"
      ]
     },
     "execution_count": 188,
     "metadata": {},
     "output_type": "execute_result"
    }
   ],
   "source": [
    "over_epoch_loss[-10:]"
   ]
  },
  {
   "cell_type": "markdown",
   "metadata": {},
   "source": [
    "### LSTM large training"
   ]
  },
  {
   "cell_type": "code",
   "execution_count": 193,
   "metadata": {},
   "outputs": [],
   "source": [
    "oracle_LSTM_large = Oracle_LSTM(vocab.size, embedding_size=64, hidden_size=128, layers=2)"
   ]
  },
  {
   "cell_type": "code",
   "execution_count": 204,
   "metadata": {},
   "outputs": [],
   "source": [
    "criterion_LSTM_large = nn.CrossEntropyLoss(reduction='none')\n",
    "learning_rate = 0.001\n",
    "optimizer_LSTM_large = torch.optim.Adam(oracle_LSTM_large.parameters(), lr=learning_rate)\n",
    "losses = []"
   ]
  },
  {
   "cell_type": "code",
   "execution_count": 195,
   "metadata": {},
   "outputs": [],
   "source": [
    "def train_generator_n_epochs(oracle_LSTM, criterion, optimizer, train_loader, test_loader, epochs=20):\n",
    "    for epoch in range(epochs):\n",
    "\n",
    "        bar = progressbar.ProgressBar()\n",
    "        oracle_LSTM.train()\n",
    "        for i, (go, eos, mask, length) in tqdm.tqdm(enumerate(train_loader)):\n",
    "            optimizer.zero_grad()\n",
    "            prediction = oracle_LSTM(go, length).transpose(2, 1)\n",
    "            loss = (criterion(prediction, eos) * mask.float()).mean()\n",
    "            loss.backward()\n",
    "            [x.grad.clamp_(-1, 1) for x in oracle_LSTM.parameters()]\n",
    "            optimizer.step()\n",
    "            losses.append(np.exp(loss.item()))\n",
    "            if i % 10 == 0:\n",
    "                print(\"----\", oracle_LSTM.generate(vocab, max_len=100))\n",
    "            if i % 50 == 0:\n",
    "                clear_output(True)\n",
    "                plt.plot(losses, label='Train')\n",
    "                plt.plot(moving_average(losses), label='MA@20')\n",
    "                plt.xlabel('iteration')\n",
    "                plt.ylabel('perplexity')\n",
    "                plt.legend()\n",
    "                plt.grid()\n",
    "                plt.show()\n",
    "        oracle_LSTM.eval()\n",
    "        for i, (go, eos, mask, length) in enumerate(test_loader):\n",
    "            optimizer.zero_grad()\n",
    "            prediction = oracle_LSTM(go, length).transpose(2, 1)\n",
    "            loss = (criterion(prediction, eos) * mask.float()).mean()\n",
    "            losses.append(np.exp(loss.item()))\n",
    "            if i % 10 == 0:\n",
    "                print(\"----\", oracle_LSTM.generate(vocab, max_len=100))\n",
    "            if i % 20 == 0:\n",
    "                plt.plot(losses, \"b\", label='test')\n",
    "                plt.plot(moving_average(losses), \"r\", label='MA@20')\n",
    "                plt.xlabel('iteration')\n",
    "                plt.ylabel('perplexity')\n",
    "                plt.legend()\n",
    "                plt.grid()\n",
    "                plt.show()"
   ]
  },
  {
   "cell_type": "code",
   "execution_count": 205,
   "metadata": {},
   "outputs": [
    {
     "data": {
      "image/png": "[encoded data removed]",
      "text/plain": [
       "<Figure size 432x288 with 1 Axes>"
      ]
     },
     "metadata": {
      "needs_background": "light"
     },
     "output_type": "display_data"
    },
    {
     "name": "stderr",
     "output_type": "stream",
     "text": [
      "11it [00:02,  4.35it/s]"
     ]
    },
    {
     "name": "stdout",
     "output_type": "stream",
     "text": [
      "---- We mokel huroul the clothes around by it.\n"
     ]
    },
    {
     "name": "stderr",
     "output_type": "stream",
     "text": [
      "21it [00:04,  4.45it/s]"
     ]
    },
    {
     "name": "stdout",
     "output_type": "stream",
     "text": [
      "---- I'm rubbish and kifs talk to be undestence.\n"
     ]
    },
    {
     "name": "stderr",
     "output_type": "stream",
     "text": [
      "32it [00:07,  4.88it/s]"
     ]
    },
    {
     "name": "stdout",
     "output_type": "stream",
     "text": [
      "---- You can't pay to weave make curable.\n"
     ]
    },
    {
     "name": "stderr",
     "output_type": "stream",
     "text": [
      "40it [00:08,  4.60it/s]\n"
     ]
    },
    {
     "name": "stdout",
     "output_type": "stream",
     "text": [
      "---- The funny bass of the impections.\n"
     ]
    },
    {
     "data": {
      "image/png": "[encoded data removed]",
      "text/plain": [
       "<Figure size 432x288 with 1 Axes>"
      ]
     },
     "metadata": {
      "needs_background": "light"
     },
     "output_type": "display_data"
    },
    {
     "name": "stdout",
     "output_type": "stream",
     "text": [
      "---- Negett is like to make a tree.\n"
     ]
    }
   ],
   "source": [
    "train_generator_n_epochs(oracle_LSTM_large, criterion_LSTM_large, optimizer_LSTM_large, train_loader, test_loader, epochs=40)"
   ]
  },
  {
   "cell_type": "code",
   "execution_count": 210,
   "metadata": {},
   "outputs": [
    {
     "name": "stdout",
     "output_type": "stream",
     "text": [
      "God is sets everything can get life.\n"
     ]
    }
   ],
   "source": [
    "sentence = oracle_LSTM_large.generate(vocab, max_len=100, temperature=0.7)\n",
    "print(sentence)"
   ]
  },
  {
   "cell_type": "code",
   "execution_count": 207,
   "metadata": {},
   "outputs": [
    {
     "data": {
      "image/png": "[encoded data removed]",
      "text/plain": [
       "<Figure size 432x288 with 1 Axes>"
      ]
     },
     "metadata": {
      "needs_background": "light"
     },
     "output_type": "display_data"
    }
   ],
   "source": [
    "over_epoch_loss = losses[::40]\n",
    "plt.plot(over_epoch_loss, \"b\", label='test')\n",
    "plt.plot(moving_average(over_epoch_loss), \"r\", label='MA@20')\n",
    "plt.xlabel('epoch')\n",
    "plt.ylabel('perplexity')\n",
    "plt.legend()\n",
    "plt.grid()\n",
    "plt.show()"
   ]
  },
  {
   "cell_type": "code",
   "execution_count": 208,
   "metadata": {},
   "outputs": [
    {
     "data": {
      "text/plain": [
       "[3.7883547784524247,\n",
       " 2.1882446898040295,\n",
       " 2.0761524022782054,\n",
       " 2.077272998187505,\n",
       " 4.182144530616778,\n",
       " 2.0647904686127667,\n",
       " 2.1013121774168355,\n",
       " 4.022538518431574,\n",
       " 2.1920935249847644,\n",
       " 2.0629037896062608]"
      ]
     },
     "execution_count": 208,
     "metadata": {},
     "output_type": "execute_result"
    }
   ],
   "source": [
    "over_epoch_loss[-10:]"
   ]
  },
  {
   "cell_type": "markdown",
   "metadata": {},
   "source": [
    "#### Как можно увидеть, я использовал не совсем те параметры, которые были предложены авторами ноутбука. Обучать модель 1000 эпох не было времени. Но, я обучил ее на 200 эпохах и обучил такую же LSTM. LSTM оказалась немного лучше, хотя и не сильно заметно"
   ]
  },
  {
   "cell_type": "markdown",
   "metadata": {},
   "source": [
    "**Спасибо за выполнение заданий!**"
   ]
  },
  {
   "cell_type": "code",
   "execution_count": null,
   "metadata": {},
   "outputs": [],
   "source": []
  }
 ],
 "metadata": {
  "kernelspec": {
   "display_name": "Python 3",
   "language": "python",
   "name": "python3"
  },
  "language_info": {
   "codemirror_mode": {
    "name": "ipython",
    "version": 3
   },
   "file_extension": ".py",
   "mimetype": "text/x-python",
   "name": "python",
   "nbconvert_exporter": "python",
   "pygments_lexer": "ipython3",
   "version": "3.7.3"
  }
 },
 "nbformat": 4,
 "nbformat_minor": 4
}
